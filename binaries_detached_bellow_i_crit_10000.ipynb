{
 "cells": [
  {
   "cell_type": "code",
   "execution_count": 2,
   "metadata": {},
   "outputs": [],
   "source": [
    "import numpy as np\n",
    "import pandas as pd\n",
    "import sqlite3\n",
    "import matplotlib.pyplot as plt"
   ]
  },
  {
   "cell_type": "code",
   "execution_count": 3,
   "metadata": {},
   "outputs": [],
   "source": [
    "import io\n",
    "def get_curve(txt):\n",
    "    out = io.BytesIO(txt)\n",
    "    out.seek(0)\n",
    "    return np.load(out)"
   ]
  },
  {
   "cell_type": "code",
   "execution_count": 4,
   "metadata": {},
   "outputs": [],
   "source": [
    "# cesta k .db suboru - zmenit na spravnu cestu\n",
    "FILEPATH = '/home/jovyan/data/lightning/data-upjs/detached_bellow_i_crit.db'\n",
    "# vytvorenie connection na subor .db v sqllite formate\n",
    "conn = sqlite3.connect(FILEPATH)"
   ]
  },
  {
   "cell_type": "code",
   "execution_count": 5,
   "metadata": {},
   "outputs": [
    {
     "name": "stdout",
     "output_type": "stream",
     "text": [
      "[('parameters',), ('curves',), ('auxiliary',)]\n"
     ]
    }
   ],
   "source": [
    "# nacitanie ake su tabulky v databaze (to len aby bolo jasne ako sa to zistit - realne su dve - parameters a curves)\n",
    "sql_query = \"\"\"SELECT name FROM sqlite_master WHERE type='table';\"\"\"\n",
    "cursor = conn.cursor()\n",
    "cursor.execute(sql_query)\n",
    "print(cursor.fetchall())"
   ]
  },
  {
   "cell_type": "code",
   "execution_count": 6,
   "metadata": {},
   "outputs": [
    {
     "data": {
      "text/html": [
       "<div>\n",
       "<style scoped>\n",
       "    .dataframe tbody tr th:only-of-type {\n",
       "        vertical-align: middle;\n",
       "    }\n",
       "\n",
       "    .dataframe tbody tr th {\n",
       "        vertical-align: top;\n",
       "    }\n",
       "\n",
       "    .dataframe thead th {\n",
       "        text-align: right;\n",
       "    }\n",
       "</style>\n",
       "<table border=\"1\" class=\"dataframe\">\n",
       "  <thead>\n",
       "    <tr style=\"text-align: right;\">\n",
       "      <th></th>\n",
       "      <th>id</th>\n",
       "      <th>overcontact</th>\n",
       "    </tr>\n",
       "  </thead>\n",
       "  <tbody>\n",
       "    <tr>\n",
       "      <th>0</th>\n",
       "      <td>29</td>\n",
       "      <td>0</td>\n",
       "    </tr>\n",
       "    <tr>\n",
       "      <th>1</th>\n",
       "      <td>88</td>\n",
       "      <td>0</td>\n",
       "    </tr>\n",
       "    <tr>\n",
       "      <th>2</th>\n",
       "      <td>158</td>\n",
       "      <td>0</td>\n",
       "    </tr>\n",
       "    <tr>\n",
       "      <th>3</th>\n",
       "      <td>234</td>\n",
       "      <td>0</td>\n",
       "    </tr>\n",
       "    <tr>\n",
       "      <th>4</th>\n",
       "      <td>334</td>\n",
       "      <td>0</td>\n",
       "    </tr>\n",
       "  </tbody>\n",
       "</table>\n",
       "</div>"
      ],
      "text/plain": [
       "    id  overcontact\n",
       "0   29            0\n",
       "1   88            0\n",
       "2  158            0\n",
       "3  234            0\n",
       "4  334            0"
      ]
     },
     "execution_count": 6,
     "metadata": {},
     "output_type": "execute_result"
    }
   ],
   "source": [
    "df_parameters = pd.read_sql_query(\"SELECT id, overcontact FROM parameters\", conn)\n",
    "\n",
    "\n",
    "\n",
    "df_parameters.head()"
   ]
  },
  {
   "cell_type": "code",
   "execution_count": 7,
   "metadata": {},
   "outputs": [
    {
     "data": {
      "text/html": [
       "<div>\n",
       "<style scoped>\n",
       "    .dataframe tbody tr th:only-of-type {\n",
       "        vertical-align: middle;\n",
       "    }\n",
       "\n",
       "    .dataframe tbody tr th {\n",
       "        vertical-align: top;\n",
       "    }\n",
       "\n",
       "    .dataframe thead th {\n",
       "        text-align: right;\n",
       "    }\n",
       "</style>\n",
       "<table border=\"1\" class=\"dataframe\">\n",
       "  <thead>\n",
       "    <tr style=\"text-align: right;\">\n",
       "      <th></th>\n",
       "      <th>id</th>\n",
       "      <th>overcontact</th>\n",
       "    </tr>\n",
       "  </thead>\n",
       "  <tbody>\n",
       "    <tr>\n",
       "      <th>0</th>\n",
       "      <td>29</td>\n",
       "      <td>0</td>\n",
       "    </tr>\n",
       "    <tr>\n",
       "      <th>1</th>\n",
       "      <td>88</td>\n",
       "      <td>0</td>\n",
       "    </tr>\n",
       "    <tr>\n",
       "      <th>2</th>\n",
       "      <td>158</td>\n",
       "      <td>0</td>\n",
       "    </tr>\n",
       "    <tr>\n",
       "      <th>3</th>\n",
       "      <td>234</td>\n",
       "      <td>0</td>\n",
       "    </tr>\n",
       "    <tr>\n",
       "      <th>4</th>\n",
       "      <td>334</td>\n",
       "      <td>0</td>\n",
       "    </tr>\n",
       "    <tr>\n",
       "      <th>...</th>\n",
       "      <td>...</td>\n",
       "      <td>...</td>\n",
       "    </tr>\n",
       "    <tr>\n",
       "      <th>78796</th>\n",
       "      <td>18628655</td>\n",
       "      <td>0</td>\n",
       "    </tr>\n",
       "    <tr>\n",
       "      <th>78797</th>\n",
       "      <td>18628668</td>\n",
       "      <td>0</td>\n",
       "    </tr>\n",
       "    <tr>\n",
       "      <th>78798</th>\n",
       "      <td>18628673</td>\n",
       "      <td>0</td>\n",
       "    </tr>\n",
       "    <tr>\n",
       "      <th>78799</th>\n",
       "      <td>18628674</td>\n",
       "      <td>0</td>\n",
       "    </tr>\n",
       "    <tr>\n",
       "      <th>78800</th>\n",
       "      <td>18628727</td>\n",
       "      <td>0</td>\n",
       "    </tr>\n",
       "  </tbody>\n",
       "</table>\n",
       "<p>78801 rows × 2 columns</p>\n",
       "</div>"
      ],
      "text/plain": [
       "             id  overcontact\n",
       "0            29            0\n",
       "1            88            0\n",
       "2           158            0\n",
       "3           234            0\n",
       "4           334            0\n",
       "...         ...          ...\n",
       "78796  18628655            0\n",
       "78797  18628668            0\n",
       "78798  18628673            0\n",
       "78799  18628674            0\n",
       "78800  18628727            0\n",
       "\n",
       "[78801 rows x 2 columns]"
      ]
     },
     "execution_count": 7,
     "metadata": {},
     "output_type": "execute_result"
    }
   ],
   "source": [
    "df_parameters"
   ]
  },
  {
   "cell_type": "code",
   "execution_count": 8,
   "metadata": {},
   "outputs": [],
   "source": [
    "# df_parameters = df_parameters.sample(10000)"
   ]
  },
  {
   "cell_type": "code",
   "execution_count": 9,
   "metadata": {},
   "outputs": [
    {
     "data": {
      "text/plain": [
       "(78801, 2)"
      ]
     },
     "execution_count": 9,
     "metadata": {},
     "output_type": "execute_result"
    }
   ],
   "source": [
    "df_parameters.shape"
   ]
  },
  {
   "cell_type": "code",
   "execution_count": 10,
   "metadata": {},
   "outputs": [
    {
     "name": "stdout",
     "output_type": "stream",
     "text": [
      "id\n",
      "overcontact\n"
     ]
    }
   ],
   "source": [
    "for col in df_parameters.columns:\n",
    "    print(col)"
   ]
  },
  {
   "cell_type": "code",
   "execution_count": 11,
   "metadata": {},
   "outputs": [],
   "source": [
    "for i in df_parameters['overcontact']:\n",
    "    if i == 1:\n",
    "        print(\"som jeden\")"
   ]
  },
  {
   "cell_type": "code",
   "execution_count": 12,
   "metadata": {},
   "outputs": [],
   "source": [
    "df_curves = pd.read_sql_query(\"SELECT * FROM curves ORDER BY RANDOM() LIMIT 10000\", conn)\n",
    "conn.close()"
   ]
  },
  {
   "cell_type": "code",
   "execution_count": 13,
   "metadata": {},
   "outputs": [
    {
     "data": {
      "text/html": [
       "<div>\n",
       "<style scoped>\n",
       "    .dataframe tbody tr th:only-of-type {\n",
       "        vertical-align: middle;\n",
       "    }\n",
       "\n",
       "    .dataframe tbody tr th {\n",
       "        vertical-align: top;\n",
       "    }\n",
       "\n",
       "    .dataframe thead th {\n",
       "        text-align: right;\n",
       "    }\n",
       "</style>\n",
       "<table border=\"1\" class=\"dataframe\">\n",
       "  <thead>\n",
       "    <tr style=\"text-align: right;\">\n",
       "      <th></th>\n",
       "      <th>id</th>\n",
       "      <th>Bessell_U</th>\n",
       "      <th>Bessell_B</th>\n",
       "      <th>Bessell_V</th>\n",
       "      <th>Bessell_R</th>\n",
       "      <th>Bessell_I</th>\n",
       "      <th>SLOAN_u</th>\n",
       "      <th>SLOAN_g</th>\n",
       "      <th>SLOAN_r</th>\n",
       "      <th>SLOAN_i</th>\n",
       "      <th>SLOAN_z</th>\n",
       "      <th>Kepler</th>\n",
       "      <th>GaiaDR2</th>\n",
       "      <th>TESS</th>\n",
       "    </tr>\n",
       "  </thead>\n",
       "  <tbody>\n",
       "    <tr>\n",
       "      <th>0</th>\n",
       "      <td>16475486</td>\n",
       "      <td>b'\\x93NUMPY\\x01\\x00v\\x00{\\'descr\\': \\'&lt;f8\\', \\...</td>\n",
       "      <td>b'\\x93NUMPY\\x01\\x00v\\x00{\\'descr\\': \\'&lt;f8\\', \\...</td>\n",
       "      <td>b'\\x93NUMPY\\x01\\x00v\\x00{\\'descr\\': \\'&lt;f8\\', \\...</td>\n",
       "      <td>b'\\x93NUMPY\\x01\\x00v\\x00{\\'descr\\': \\'&lt;f8\\', \\...</td>\n",
       "      <td>b'\\x93NUMPY\\x01\\x00v\\x00{\\'descr\\': \\'&lt;f8\\', \\...</td>\n",
       "      <td>b'\\x93NUMPY\\x01\\x00v\\x00{\\'descr\\': \\'&lt;f8\\', \\...</td>\n",
       "      <td>b'\\x93NUMPY\\x01\\x00v\\x00{\\'descr\\': \\'&lt;f8\\', \\...</td>\n",
       "      <td>b\"\\x93NUMPY\\x01\\x00v\\x00{'descr': '&lt;f8', 'fort...</td>\n",
       "      <td>b'\\x93NUMPY\\x01\\x00v\\x00{\\'descr\\': \\'&lt;f8\\', \\...</td>\n",
       "      <td>b'\\x93NUMPY\\x01\\x00v\\x00{\\'descr\\': \\'&lt;f8\\', \\...</td>\n",
       "      <td>b'\\x93NUMPY\\x01\\x00v\\x00{\\'descr\\': \\'&lt;f8\\', \\...</td>\n",
       "      <td>b'\\x93NUMPY\\x01\\x00v\\x00{\\'descr\\': \\'&lt;f8\\', \\...</td>\n",
       "      <td>b'\\x93NUMPY\\x01\\x00v\\x00{\\'descr\\': \\'&lt;f8\\', \\...</td>\n",
       "    </tr>\n",
       "    <tr>\n",
       "      <th>1</th>\n",
       "      <td>969061</td>\n",
       "      <td>b'\\x93NUMPY\\x01\\x00v\\x00{\\'descr\\': \\'&lt;f8\\', \\...</td>\n",
       "      <td>b'\\x93NUMPY\\x01\\x00v\\x00{\\'descr\\': \\'&lt;f8\\', \\...</td>\n",
       "      <td>b'\\x93NUMPY\\x01\\x00v\\x00{\\'descr\\': \\'&lt;f8\\', \\...</td>\n",
       "      <td>b'\\x93NUMPY\\x01\\x00v\\x00{\\'descr\\': \\'&lt;f8\\', \\...</td>\n",
       "      <td>b'\\x93NUMPY\\x01\\x00v\\x00{\\'descr\\': \\'&lt;f8\\', \\...</td>\n",
       "      <td>b'\\x93NUMPY\\x01\\x00v\\x00{\\'descr\\': \\'&lt;f8\\', \\...</td>\n",
       "      <td>b'\\x93NUMPY\\x01\\x00v\\x00{\\'descr\\': \\'&lt;f8\\', \\...</td>\n",
       "      <td>b'\\x93NUMPY\\x01\\x00v\\x00{\\'descr\\': \\'&lt;f8\\', \\...</td>\n",
       "      <td>b'\\x93NUMPY\\x01\\x00v\\x00{\\'descr\\': \\'&lt;f8\\', \\...</td>\n",
       "      <td>b'\\x93NUMPY\\x01\\x00v\\x00{\\'descr\\': \\'&lt;f8\\', \\...</td>\n",
       "      <td>b'\\x93NUMPY\\x01\\x00v\\x00{\\'descr\\': \\'&lt;f8\\', \\...</td>\n",
       "      <td>b'\\x93NUMPY\\x01\\x00v\\x00{\\'descr\\': \\'&lt;f8\\', \\...</td>\n",
       "      <td>b'\\x93NUMPY\\x01\\x00v\\x00{\\'descr\\': \\'&lt;f8\\', \\...</td>\n",
       "    </tr>\n",
       "  </tbody>\n",
       "</table>\n",
       "</div>"
      ],
      "text/plain": [
       "         id                                          Bessell_U  \\\n",
       "0  16475486  b'\\x93NUMPY\\x01\\x00v\\x00{\\'descr\\': \\'<f8\\', \\...   \n",
       "1    969061  b'\\x93NUMPY\\x01\\x00v\\x00{\\'descr\\': \\'<f8\\', \\...   \n",
       "\n",
       "                                           Bessell_B  \\\n",
       "0  b'\\x93NUMPY\\x01\\x00v\\x00{\\'descr\\': \\'<f8\\', \\...   \n",
       "1  b'\\x93NUMPY\\x01\\x00v\\x00{\\'descr\\': \\'<f8\\', \\...   \n",
       "\n",
       "                                           Bessell_V  \\\n",
       "0  b'\\x93NUMPY\\x01\\x00v\\x00{\\'descr\\': \\'<f8\\', \\...   \n",
       "1  b'\\x93NUMPY\\x01\\x00v\\x00{\\'descr\\': \\'<f8\\', \\...   \n",
       "\n",
       "                                           Bessell_R  \\\n",
       "0  b'\\x93NUMPY\\x01\\x00v\\x00{\\'descr\\': \\'<f8\\', \\...   \n",
       "1  b'\\x93NUMPY\\x01\\x00v\\x00{\\'descr\\': \\'<f8\\', \\...   \n",
       "\n",
       "                                           Bessell_I  \\\n",
       "0  b'\\x93NUMPY\\x01\\x00v\\x00{\\'descr\\': \\'<f8\\', \\...   \n",
       "1  b'\\x93NUMPY\\x01\\x00v\\x00{\\'descr\\': \\'<f8\\', \\...   \n",
       "\n",
       "                                             SLOAN_u  \\\n",
       "0  b'\\x93NUMPY\\x01\\x00v\\x00{\\'descr\\': \\'<f8\\', \\...   \n",
       "1  b'\\x93NUMPY\\x01\\x00v\\x00{\\'descr\\': \\'<f8\\', \\...   \n",
       "\n",
       "                                             SLOAN_g  \\\n",
       "0  b'\\x93NUMPY\\x01\\x00v\\x00{\\'descr\\': \\'<f8\\', \\...   \n",
       "1  b'\\x93NUMPY\\x01\\x00v\\x00{\\'descr\\': \\'<f8\\', \\...   \n",
       "\n",
       "                                             SLOAN_r  \\\n",
       "0  b\"\\x93NUMPY\\x01\\x00v\\x00{'descr': '<f8', 'fort...   \n",
       "1  b'\\x93NUMPY\\x01\\x00v\\x00{\\'descr\\': \\'<f8\\', \\...   \n",
       "\n",
       "                                             SLOAN_i  \\\n",
       "0  b'\\x93NUMPY\\x01\\x00v\\x00{\\'descr\\': \\'<f8\\', \\...   \n",
       "1  b'\\x93NUMPY\\x01\\x00v\\x00{\\'descr\\': \\'<f8\\', \\...   \n",
       "\n",
       "                                             SLOAN_z  \\\n",
       "0  b'\\x93NUMPY\\x01\\x00v\\x00{\\'descr\\': \\'<f8\\', \\...   \n",
       "1  b'\\x93NUMPY\\x01\\x00v\\x00{\\'descr\\': \\'<f8\\', \\...   \n",
       "\n",
       "                                              Kepler  \\\n",
       "0  b'\\x93NUMPY\\x01\\x00v\\x00{\\'descr\\': \\'<f8\\', \\...   \n",
       "1  b'\\x93NUMPY\\x01\\x00v\\x00{\\'descr\\': \\'<f8\\', \\...   \n",
       "\n",
       "                                             GaiaDR2  \\\n",
       "0  b'\\x93NUMPY\\x01\\x00v\\x00{\\'descr\\': \\'<f8\\', \\...   \n",
       "1  b'\\x93NUMPY\\x01\\x00v\\x00{\\'descr\\': \\'<f8\\', \\...   \n",
       "\n",
       "                                                TESS  \n",
       "0  b'\\x93NUMPY\\x01\\x00v\\x00{\\'descr\\': \\'<f8\\', \\...  \n",
       "1  b'\\x93NUMPY\\x01\\x00v\\x00{\\'descr\\': \\'<f8\\', \\...  "
      ]
     },
     "execution_count": 13,
     "metadata": {},
     "output_type": "execute_result"
    }
   ],
   "source": [
    "\n",
    "df_curves.head(2)"
   ]
  },
  {
   "cell_type": "code",
   "execution_count": null,
   "metadata": {},
   "outputs": [],
   "source": []
  },
  {
   "cell_type": "code",
   "execution_count": 14,
   "metadata": {},
   "outputs": [
    {
     "name": "stdout",
     "output_type": "stream",
     "text": [
      "[1.87585069e-309 1.17119999e+171 5.22741680e-037 8.44740097e+252\n",
      " 2.65141232e+180 9.92152605e+247 2.16209968e+233 1.39938206e-076\n",
      " 6.01399921e-154 6.01347002e-154 6.01347002e-154 6.01347002e-154\n",
      " 6.01347002e-154 6.01347002e-154 6.01347002e-154 6.55490914e-260\n",
      " 9.88652211e-001 9.88652253e-001 9.88652522e-001 9.88654317e-001\n",
      " 9.88660018e-001 9.88665811e-001 9.88673017e-001 9.88681320e-001\n",
      " 9.88693943e-001 9.88707286e-001 9.88719941e-001 9.88735779e-001\n",
      " 9.88752495e-001 9.88771296e-001 9.88792876e-001 9.88814972e-001\n",
      " 9.88836397e-001 9.88857100e-001 9.88881661e-001 9.88908763e-001\n",
      " 9.88935610e-001 9.88962306e-001 9.88992288e-001 9.89022721e-001\n",
      " 9.89053912e-001 9.89088347e-001 9.89122141e-001 9.89157188e-001\n",
      " 9.89191537e-001 9.89227166e-001 9.89264645e-001 9.89303719e-001\n",
      " 9.89345821e-001 9.89387149e-001 9.89428047e-001 9.89468583e-001\n",
      " 9.89512267e-001 9.89558133e-001 9.89605419e-001 9.89654189e-001\n",
      " 9.89702163e-001 9.89751362e-001 9.89799639e-001 9.89850817e-001\n",
      " 9.89903706e-001 9.89956466e-001 9.90012217e-001 9.90068211e-001\n",
      " 9.90123862e-001 9.90180338e-001 9.90241823e-001 9.90302965e-001\n",
      " 9.90363210e-001 9.90423464e-001 9.90486129e-001 9.90549871e-001\n",
      " 9.90614121e-001 9.90681957e-001 9.90748964e-001 9.90815654e-001\n",
      " 9.90884373e-001 9.90955446e-001 9.91026798e-001 9.91097858e-001\n",
      " 9.91170526e-001 9.91244747e-001 9.91320368e-001 9.91395307e-001\n",
      " 9.91469179e-001 9.91546185e-001 9.91626228e-001 9.91707071e-001\n",
      " 9.91786570e-001 9.91864964e-001 9.91948126e-001 9.92032526e-001\n",
      " 9.92115671e-001 9.92199505e-001 9.92283638e-001 9.92368146e-001\n",
      " 9.92453528e-001 9.92541464e-001 9.92628946e-001 9.92714792e-001\n",
      " 9.92800088e-001 9.92889101e-001 9.92977656e-001 9.93064699e-001\n",
      " 9.93150861e-001 9.93239277e-001 9.93326891e-001 9.93416163e-001\n",
      " 9.93506329e-001 9.93595151e-001 9.93684973e-001 9.93773350e-001\n",
      " 9.93861593e-001 9.93951306e-001 9.94042048e-001 9.94133613e-001\n",
      " 9.94223749e-001 9.94311869e-001 9.94398516e-001 9.94485897e-001\n",
      " 9.94574176e-001 9.94663753e-001 9.94752978e-001 9.94840493e-001\n",
      " 9.94928699e-001 9.95015207e-001 9.95102215e-001 9.95190445e-001\n",
      " 9.95277395e-001 9.95366075e-001 9.95453311e-001 9.95538429e-001\n",
      " 9.95622437e-001 9.95709469e-001 9.95795211e-001 9.95878538e-001\n",
      " 9.95960585e-001 9.96044321e-001 9.96128024e-001 9.96211151e-001\n",
      " 9.96293585e-001 9.96375681e-001 9.96455454e-001 9.96535359e-001\n",
      " 9.96618882e-001 9.96700112e-001 9.96778767e-001 9.96856953e-001\n",
      " 9.96936867e-001 9.97018567e-001 9.97097810e-001 9.97174946e-001\n",
      " 9.97252019e-001 9.97329143e-001 9.97406334e-001 9.97481654e-001\n",
      " 9.97555637e-001 9.97630328e-001 9.97705361e-001 9.97778359e-001\n",
      " 9.97848775e-001 9.97920992e-001 9.97991895e-001 9.98062022e-001\n",
      " 9.98132671e-001 9.98201407e-001 9.98267293e-001 9.98330847e-001\n",
      " 9.98397395e-001 9.98462720e-001 9.98525626e-001 9.98586672e-001\n",
      " 9.98648579e-001 9.98708197e-001 9.98767335e-001 9.98827158e-001\n",
      " 9.98883816e-001 9.98939432e-001 9.98991959e-001 9.99043651e-001\n",
      " 9.99094422e-001 9.99145013e-001 9.99196367e-001 9.99244951e-001\n",
      " 9.99290675e-001 9.99333169e-001 9.99376214e-001 9.99418357e-001\n",
      " 9.99459835e-001 9.99500061e-001 9.99537040e-001 9.99572707e-001\n",
      " 9.99605148e-001 9.99638236e-001 9.99669465e-001 9.99698512e-001\n",
      " 9.99728196e-001 9.99755065e-001 9.99779004e-001 9.99802797e-001\n",
      " 9.99827752e-001 9.99849280e-001 9.99867417e-001 9.99883339e-001\n",
      " 9.99899303e-001 9.99914604e-001 9.99928027e-001 9.99941870e-001\n",
      " 9.99952255e-001 9.99960579e-001 9.99970443e-001 9.99978617e-001\n",
      " 9.99985413e-001 9.99989508e-001 9.99994711e-001 9.99998642e-001\n",
      " 1.00000000e+000 9.99998642e-001 9.99994711e-001 9.99989508e-001\n",
      " 9.99985413e-001 9.99978617e-001 9.99970443e-001 9.99960579e-001\n",
      " 9.99952255e-001 9.99941870e-001 9.99928027e-001 9.99914604e-001\n",
      " 9.99899303e-001 9.99883339e-001 9.99867417e-001 9.99849280e-001\n",
      " 9.99827752e-001 9.99802797e-001 9.99779004e-001 9.99755065e-001\n",
      " 9.99728196e-001 9.99698512e-001 9.99669465e-001 9.99638236e-001\n",
      " 9.99605148e-001 9.99572707e-001 9.99537040e-001 9.99500061e-001\n",
      " 9.99459835e-001 9.99418357e-001 9.99376214e-001 9.99333169e-001\n",
      " 9.99290675e-001 9.99244951e-001 9.99196367e-001 9.99145013e-001\n",
      " 9.99094422e-001 9.99043651e-001 9.98991959e-001 9.98939432e-001\n",
      " 9.98883816e-001 9.98827158e-001 9.98767335e-001 9.98708197e-001\n",
      " 9.98648579e-001 9.98586672e-001 9.98525626e-001 9.98462720e-001\n",
      " 9.98397395e-001 9.98330847e-001 9.98267293e-001 9.98201407e-001\n",
      " 9.98132671e-001 9.98062022e-001 9.97991895e-001 9.97920992e-001\n",
      " 9.97848775e-001 9.97778359e-001 9.97705361e-001 9.97630328e-001\n",
      " 9.97555637e-001 9.97481654e-001 9.97406334e-001 9.97329143e-001\n",
      " 9.97252019e-001 9.97174946e-001 9.97097810e-001 9.97018567e-001\n",
      " 9.96936867e-001 9.96856953e-001 9.96778767e-001 9.96700112e-001\n",
      " 9.96618882e-001 9.96535359e-001 9.96455454e-001 9.96375681e-001\n",
      " 9.96293585e-001 9.96211151e-001 9.96128024e-001 9.96044321e-001\n",
      " 9.95960585e-001 9.95878538e-001 9.95795211e-001 9.95709469e-001\n",
      " 9.95622437e-001 9.95538429e-001 9.95453311e-001 9.95366075e-001\n",
      " 9.95277395e-001 9.95190445e-001 9.95102215e-001 9.95015207e-001\n",
      " 9.94928699e-001 9.94840493e-001 9.94752978e-001 9.94663753e-001\n",
      " 9.94574176e-001 9.94485897e-001 9.94398516e-001 9.94311869e-001\n",
      " 9.94223749e-001 9.94133613e-001 9.94042048e-001 9.93951306e-001\n",
      " 9.93861593e-001 9.93773350e-001 9.93684973e-001 9.93595151e-001\n",
      " 9.93506329e-001 9.93416163e-001 9.93326891e-001 9.93239277e-001\n",
      " 9.93150861e-001 9.93064699e-001 9.92977656e-001 9.92889101e-001\n",
      " 9.92800088e-001 9.92714792e-001 9.92628946e-001 9.92541464e-001\n",
      " 9.92453528e-001 9.92368146e-001 9.92283638e-001 9.92199505e-001\n",
      " 9.92115671e-001 9.92032526e-001 9.91948126e-001 9.91864964e-001\n",
      " 9.91786570e-001 9.91707071e-001 9.91626228e-001 9.91546185e-001\n",
      " 9.91469179e-001 9.91395307e-001 9.91320368e-001 9.91244747e-001\n",
      " 9.91170526e-001 9.91097858e-001 9.91026798e-001 9.90955446e-001\n",
      " 9.90884373e-001 9.90815654e-001 9.90748964e-001 9.90681957e-001\n",
      " 9.90614121e-001 9.90549871e-001 9.90486129e-001 9.90423464e-001\n",
      " 9.90363210e-001 9.90302965e-001 9.90241823e-001 9.90180338e-001\n",
      " 9.90123862e-001 9.90068211e-001 9.90012217e-001 9.89956466e-001\n",
      " 9.89903706e-001 9.89850817e-001 9.89799639e-001 9.89751362e-001\n",
      " 9.89702163e-001 9.89654189e-001 9.89605419e-001 9.89558133e-001\n",
      " 9.89512267e-001 9.89468583e-001 9.89428047e-001 9.89387149e-001\n",
      " 9.89345821e-001 9.89303719e-001 9.89264645e-001 9.89227166e-001\n",
      " 9.89191537e-001 9.89157188e-001 9.89122141e-001 9.89088347e-001\n",
      " 9.89053912e-001 9.89022721e-001 9.88992288e-001 9.88962306e-001\n",
      " 9.88935610e-001 9.88908763e-001 9.88881661e-001 9.88857100e-001\n",
      " 9.88836397e-001 9.88814972e-001 9.88792876e-001 9.88771296e-001\n",
      " 9.88752495e-001 9.88735779e-001 9.88719941e-001 9.88707286e-001\n",
      " 9.88693943e-001 9.88681320e-001 9.88673017e-001 9.88665811e-001\n",
      " 9.88660018e-001 9.88654317e-001 9.88652522e-001 9.88652253e-001]\n"
     ]
    }
   ],
   "source": [
    "my_curve_values = np.frombuffer(df_curves[\"Bessell_U\"][3000])\n",
    "my_curve_values1 = get_curve(df_curves[\"Bessell_U\"][3000])\n",
    "print(my_curve_values)"
   ]
  },
  {
   "cell_type": "code",
   "execution_count": 15,
   "metadata": {},
   "outputs": [
    {
     "data": {
      "image/png": "[encoded data removed]",
      "text/plain": [
       "<Figure size 432x288 with 1 Axes>"
      ]
     },
     "metadata": {
      "needs_background": "light"
     },
     "output_type": "display_data"
    }
   ],
   "source": [
    "plt.plot(my_curve_values[16:])\n",
    "plt.show()"
   ]
  },
  {
   "cell_type": "code",
   "execution_count": 16,
   "metadata": {},
   "outputs": [
    {
     "name": "stdout",
     "output_type": "stream",
     "text": [
      "Bessell_U    [0.8488391039343367, 0.8488504377061645, 0.848...\n",
      "Bessell_B    [0.7027309492478716, 0.7027366730650424, 0.702...\n",
      "Bessell_V    [0.7041586748307709, 0.7041589053996757, 0.704...\n",
      "Bessell_R    [0.7249534231674287, 0.7249497937291086, 0.724...\n",
      "Bessell_I    [0.7558210928626884, 0.7558110435159981, 0.755...\n",
      "SLOAN_u      [0.8741797717187011, 0.8741919275569204, 0.874...\n",
      "SLOAN_g      [0.6982781746108033, 0.6982821908785061, 0.698...\n",
      "SLOAN_r      [0.7209697691055679, 0.7209669144250287, 0.720...\n",
      "SLOAN_i      [0.7516942499673802, 0.7516862267287022, 0.751...\n",
      "SLOAN_z      [0.7576287802850149, 0.7576165833955715, 0.757...\n",
      "Kepler       [0.7149210183851461, 0.7149200779046639, 0.714...\n",
      "GaiaDR2      [0.7192951260870792, 0.7192954370017023, 0.719...\n",
      "TESS         [0.7405351492111895, 0.7405290415197959, 0.740...\n",
      "Name: 7800, dtype: object\n"
     ]
    }
   ],
   "source": [
    "row = df_curves.iloc[7800]\n",
    "row_curves = row[1:]\n",
    "my_curves = row_curves.apply(get_curve) \n",
    "print(my_curves)"
   ]
  },
  {
   "cell_type": "code",
   "execution_count": 17,
   "metadata": {},
   "outputs": [
    {
     "data": {
      "image/png": "[encoded data removed]",
      "text/plain": [
       "<Figure size 432x288 with 1 Axes>"
      ]
     },
     "metadata": {
      "needs_background": "light"
     },
     "output_type": "display_data"
    }
   ],
   "source": [
    "for c in my_curves:\n",
    "    plt.plot(c)\n",
    "    \n",
    "plt.show()"
   ]
  },
  {
   "cell_type": "code",
   "execution_count": 18,
   "metadata": {},
   "outputs": [
    {
     "name": "stdout",
     "output_type": "stream",
     "text": [
      "<class 'pandas.core.frame.DataFrame'>\n",
      "Int64Index: 10000 entries, 0 to 9999\n",
      "Data columns (total 7 columns):\n",
      " #   Column       Non-Null Count  Dtype \n",
      "---  ------       --------------  ----- \n",
      " 0   id           10000 non-null  int64 \n",
      " 1   Bessell_U    10000 non-null  object\n",
      " 2   Bessell_B    10000 non-null  object\n",
      " 3   Bessell_V    10000 non-null  object\n",
      " 4   Bessell_R    10000 non-null  object\n",
      " 5   Bessell_I    10000 non-null  object\n",
      " 6   overcontact  10000 non-null  int64 \n",
      "dtypes: int64(2), object(5)\n",
      "memory usage: 625.0+ KB\n"
     ]
    }
   ],
   "source": [
    "df1 = df_curves[[\"id\",\"Bessell_U\", \"Bessell_B\", \"Bessell_V\", \"Bessell_R\", \"Bessell_I\"]]\n",
    "df2 = df_parameters[[\"id\", \"overcontact\"]]\n",
    "df_merged = pd.merge(df1,df2,on=\"id\")\n",
    "df_merged[\"Bessell_U\"] = df_merged[\"Bessell_U\"].apply(get_curve)\n",
    "df_merged[\"Bessell_V\"] = df_merged[\"Bessell_V\"].apply(get_curve)\n",
    "df_merged[\"Bessell_R\"] = df_merged[\"Bessell_R\"].apply(get_curve)\n",
    "df_merged[\"Bessell_I\"] = df_merged[\"Bessell_I\"].apply(get_curve)\n",
    "df_merged[\"Bessell_B\"] = df_merged[\"Bessell_B\"].apply(get_curve)\n",
    "df_merged.info()"
   ]
  },
  {
   "cell_type": "code",
   "execution_count": 19,
   "metadata": {},
   "outputs": [],
   "source": [
    "df_merged.to_pickle(\"detached_bellow_i_crit_10000.pkl\")"
   ]
  },
  {
   "cell_type": "code",
   "execution_count": null,
   "metadata": {},
   "outputs": [],
   "source": [
    "df_merged_nacitany = pd.read_pickle(\"vyber.pkl\")"
   ]
  },
  {
   "cell_type": "code",
   "execution_count": null,
   "metadata": {},
   "outputs": [],
   "source": []
  }
 ],
 "metadata": {
  "kernelspec": {
   "display_name": "Python 3",
   "language": "python",
   "name": "python3"
  },
  "language_info": {
   "codemirror_mode": {
    "name": "ipython",
    "version": 3
   },
   "file_extension": ".py",
   "mimetype": "text/x-python",
   "name": "python",
   "nbconvert_exporter": "python",
   "pygments_lexer": "ipython3",
   "version": "3.8.6"
  }
 },
 "nbformat": 4,
 "nbformat_minor": 4
}
