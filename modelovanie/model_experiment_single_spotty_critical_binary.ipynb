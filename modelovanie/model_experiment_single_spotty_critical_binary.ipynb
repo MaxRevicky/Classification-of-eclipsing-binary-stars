{
 "cells": [
  {
   "cell_type": "markdown",
   "metadata": {},
   "source": [
    "# Automatic classification of eclipsing binary stars using deep learning methods"
   ]
  },
  {
   "cell_type": "markdown",
   "metadata": {},
   "source": [
    "> Vstupne datasety (single_spotty.pkl, overcontact_bellow_i_crit.pkl, detached_bellow_i_crit_10000) boli vytvorene pomocou single_spotty.ipynb, binaries_overcontact_bellow_i_crit_10000.ipynb, binaries_detached_bellow_i_crit_10000.ipynb"
   ]
  },
  {
   "cell_type": "markdown",
   "metadata": {},
   "source": [
    "Experiment 4\n",
    "\n",
    "\n",
    "- datasety: single spotty (6 853)\n",
    "              overcontact_bellow_i_crit (10 000)\n",
    "              detached_bellow_i_crit (10 000)\n",
    "- vstup do modelu: vertikálne spojenie 5 filtrov (UBVRI)\n",
    "- šum: stochastic_noise_generator, curve_alignement\n",
    "- train_test_split: test_size=0.2\n",
    "- výstup modelu: klasifikacia 0 -> single spotty, \n",
    "                            1 -> binary star (overcontact + detached)\n",
    "- evaluácia: vertikálne spojenie 5 filtrov (UBVRI), nad 0.5 -> 1\n",
    "- checkpoint: monitor: val_acc, mode: max\n"
   ]
  },
  {
   "cell_type": "code",
   "execution_count": 1,
   "metadata": {},
   "outputs": [],
   "source": [
    "import numpy as np\n",
    "import pandas as pd\n",
    "import json\n",
    "import pickle\n",
    "np.random.seed(1234)\n",
    "\n",
    "from noise_generator import stochastic_noise_generator\n",
    "from curve_alignement import curve_alignement_randomizer\n",
    "from sklearn.model_selection import train_test_split\n",
    "\n",
    "\n",
    "from keras.utils import np_utils\n",
    "from keras.models import load_model\n",
    "from sklearn.metrics import confusion_matrix, classification_report\n",
    "from sklearn.metrics import precision_recall_fscore_support\n",
    "from sklearn.model_selection import train_test_split\n",
    "\n",
    "from keras.layers import Conv1D, GlobalMaxPooling1D, MaxPooling1D, SpatialDropout1D, GlobalAveragePooling1D\n",
    "from keras.layers import Input, Dense, concatenate, Activation, LSTM, Bidirectional, Flatten, Dropout\n",
    "from keras.models import Model\n",
    "from keras.models import Sequential\n",
    "from keras.layers.merge import Concatenate\n",
    "from tensorflow.keras.callbacks import ModelCheckpoint, EarlyStopping\n",
    "import matplotlib.pyplot as plt\n",
    "\n",
    "import imblearn\n",
    "from imblearn import under_sampling, over_sampling\n",
    "from imblearn.under_sampling import RandomUnderSampler\n",
    "from collections import Counter\n",
    "\n",
    "import scikitplot as skplt"
   ]
  },
  {
   "cell_type": "code",
   "execution_count": 2,
   "metadata": {},
   "outputs": [],
   "source": [
    "# V pripade ak boli chyby s importami, tak je potrebne to spustit (robi sa so zdielanymi prostrediami)\n",
    "\n",
    "# %pip install keras\n",
    "# %pip install elisa\n",
    "# %pip install imblearn\n",
    "# %pip install --upgrade tensorflow\n",
    "# %pip install --upgrade tensorflow-gpu\n",
    "# %pip install scikit-plot"
   ]
  },
  {
   "cell_type": "markdown",
   "metadata": {},
   "source": [
    "## Data load\n",
    "\n",
    "- load synthetic light curve - ELISa\n",
    "- Loads previously prepared data,"
   ]
  },
  {
   "cell_type": "code",
   "execution_count": 3,
   "metadata": {},
   "outputs": [
    {
     "data": {
      "text/html": [
       "<div>\n",
       "<style scoped>\n",
       "    .dataframe tbody tr th:only-of-type {\n",
       "        vertical-align: middle;\n",
       "    }\n",
       "\n",
       "    .dataframe tbody tr th {\n",
       "        vertical-align: top;\n",
       "    }\n",
       "\n",
       "    .dataframe thead th {\n",
       "        text-align: right;\n",
       "    }\n",
       "</style>\n",
       "<table border=\"1\" class=\"dataframe\">\n",
       "  <thead>\n",
       "    <tr style=\"text-align: right;\">\n",
       "      <th></th>\n",
       "      <th>id</th>\n",
       "      <th>Bessell_U</th>\n",
       "      <th>Bessell_B</th>\n",
       "      <th>Bessell_V</th>\n",
       "      <th>Bessell_R</th>\n",
       "      <th>Bessell_I</th>\n",
       "      <th>overcontact</th>\n",
       "    </tr>\n",
       "  </thead>\n",
       "  <tbody>\n",
       "    <tr>\n",
       "      <th>0</th>\n",
       "      <td>1</td>\n",
       "      <td>[0.999723147256461, 0.9998263845312357, 0.9999...</td>\n",
       "      <td>[0.999729147335103, 0.9998341245757354, 0.9999...</td>\n",
       "      <td>[0.9997193606202365, 0.9998297654831404, 0.999...</td>\n",
       "      <td>[0.9997101293497717, 0.9998251315085762, 0.999...</td>\n",
       "      <td>[0.9996999473946334, 0.9998205539859434, 0.999...</td>\n",
       "      <td>0</td>\n",
       "    </tr>\n",
       "  </tbody>\n",
       "</table>\n",
       "</div>"
      ],
      "text/plain": [
       "   id                                          Bessell_U  \\\n",
       "0   1  [0.999723147256461, 0.9998263845312357, 0.9999...   \n",
       "\n",
       "                                           Bessell_B  \\\n",
       "0  [0.999729147335103, 0.9998341245757354, 0.9999...   \n",
       "\n",
       "                                           Bessell_V  \\\n",
       "0  [0.9997193606202365, 0.9998297654831404, 0.999...   \n",
       "\n",
       "                                           Bessell_R  \\\n",
       "0  [0.9997101293497717, 0.9998251315085762, 0.999...   \n",
       "\n",
       "                                           Bessell_I  overcontact  \n",
       "0  [0.9996999473946334, 0.9998205539859434, 0.999...            0  "
      ]
     },
     "execution_count": 3,
     "metadata": {},
     "output_type": "execute_result"
    }
   ],
   "source": [
    "data_single_spotty_0 = pd.read_pickle(\"single_spotty.pkl\")\n",
    "data_single_spotty_0.head(1)"
   ]
  },
  {
   "cell_type": "code",
   "execution_count": 4,
   "metadata": {},
   "outputs": [
    {
     "data": {
      "text/html": [
       "<div>\n",
       "<style scoped>\n",
       "    .dataframe tbody tr th:only-of-type {\n",
       "        vertical-align: middle;\n",
       "    }\n",
       "\n",
       "    .dataframe tbody tr th {\n",
       "        vertical-align: top;\n",
       "    }\n",
       "\n",
       "    .dataframe thead th {\n",
       "        text-align: right;\n",
       "    }\n",
       "</style>\n",
       "<table border=\"1\" class=\"dataframe\">\n",
       "  <thead>\n",
       "    <tr style=\"text-align: right;\">\n",
       "      <th></th>\n",
       "      <th>id</th>\n",
       "      <th>Bessell_U</th>\n",
       "      <th>Bessell_B</th>\n",
       "      <th>Bessell_V</th>\n",
       "      <th>Bessell_R</th>\n",
       "      <th>Bessell_I</th>\n",
       "      <th>overcontact</th>\n",
       "    </tr>\n",
       "  </thead>\n",
       "  <tbody>\n",
       "    <tr>\n",
       "      <th>0</th>\n",
       "      <td>5525863</td>\n",
       "      <td>[0.9822878916431276, 0.9822923502770495, 0.982...</td>\n",
       "      <td>[0.9836798067688779, 0.9836848195855644, 0.983...</td>\n",
       "      <td>[0.9852708638639681, 0.9852768914427964, 0.985...</td>\n",
       "      <td>[0.9862367882838877, 0.986243388374919, 0.9862...</td>\n",
       "      <td>[0.9872831343180863, 0.9872903579379123, 0.987...</td>\n",
       "      <td>1</td>\n",
       "    </tr>\n",
       "  </tbody>\n",
       "</table>\n",
       "</div>"
      ],
      "text/plain": [
       "        id                                          Bessell_U  \\\n",
       "0  5525863  [0.9822878916431276, 0.9822923502770495, 0.982...   \n",
       "\n",
       "                                           Bessell_B  \\\n",
       "0  [0.9836798067688779, 0.9836848195855644, 0.983...   \n",
       "\n",
       "                                           Bessell_V  \\\n",
       "0  [0.9852708638639681, 0.9852768914427964, 0.985...   \n",
       "\n",
       "                                           Bessell_R  \\\n",
       "0  [0.9862367882838877, 0.986243388374919, 0.9862...   \n",
       "\n",
       "                                           Bessell_I  overcontact  \n",
       "0  [0.9872831343180863, 0.9872903579379123, 0.987...            1  "
      ]
     },
     "execution_count": 4,
     "metadata": {},
     "output_type": "execute_result"
    }
   ],
   "source": [
    "data_overcontact_1 = pd.read_pickle(\"overcontact_bellow_i_crit_10000.pkl\")\n",
    "data_overcontact_1.head(1)"
   ]
  },
  {
   "cell_type": "code",
   "execution_count": 5,
   "metadata": {},
   "outputs": [
    {
     "data": {
      "text/html": [
       "<div>\n",
       "<style scoped>\n",
       "    .dataframe tbody tr th:only-of-type {\n",
       "        vertical-align: middle;\n",
       "    }\n",
       "\n",
       "    .dataframe tbody tr th {\n",
       "        vertical-align: top;\n",
       "    }\n",
       "\n",
       "    .dataframe thead th {\n",
       "        text-align: right;\n",
       "    }\n",
       "</style>\n",
       "<table border=\"1\" class=\"dataframe\">\n",
       "  <thead>\n",
       "    <tr style=\"text-align: right;\">\n",
       "      <th></th>\n",
       "      <th>id</th>\n",
       "      <th>Bessell_U</th>\n",
       "      <th>Bessell_B</th>\n",
       "      <th>Bessell_V</th>\n",
       "      <th>Bessell_R</th>\n",
       "      <th>Bessell_I</th>\n",
       "      <th>overcontact</th>\n",
       "    </tr>\n",
       "  </thead>\n",
       "  <tbody>\n",
       "    <tr>\n",
       "      <th>0</th>\n",
       "      <td>16475486</td>\n",
       "      <td>[0.9725785101533405, 0.9725670857905166, 0.972...</td>\n",
       "      <td>[0.9492919880946644, 0.9492817827705917, 0.949...</td>\n",
       "      <td>[0.9453769164275371, 0.9453675090288542, 0.945...</td>\n",
       "      <td>[0.9471419755249144, 0.9471329680009939, 0.947...</td>\n",
       "      <td>[0.9493361170990322, 0.9493283389169975, 0.949...</td>\n",
       "      <td>1</td>\n",
       "    </tr>\n",
       "  </tbody>\n",
       "</table>\n",
       "</div>"
      ],
      "text/plain": [
       "         id                                          Bessell_U  \\\n",
       "0  16475486  [0.9725785101533405, 0.9725670857905166, 0.972...   \n",
       "\n",
       "                                           Bessell_B  \\\n",
       "0  [0.9492919880946644, 0.9492817827705917, 0.949...   \n",
       "\n",
       "                                           Bessell_V  \\\n",
       "0  [0.9453769164275371, 0.9453675090288542, 0.945...   \n",
       "\n",
       "                                           Bessell_R  \\\n",
       "0  [0.9471419755249144, 0.9471329680009939, 0.947...   \n",
       "\n",
       "                                           Bessell_I  overcontact  \n",
       "0  [0.9493361170990322, 0.9493283389169975, 0.949...            1  "
      ]
     },
     "execution_count": 5,
     "metadata": {},
     "output_type": "execute_result"
    }
   ],
   "source": [
    "data_detached_1 = pd.read_pickle(\"detached_bellow_i_crit_10000.pkl\")\n",
    "data_detached_1['overcontact'].values[:] = 1\n",
    "data_detached_1.head(1)"
   ]
  },
  {
   "cell_type": "code",
   "execution_count": 8,
   "metadata": {},
   "outputs": [],
   "source": [
    "data_overcontact_1= pd.DataFrame(curve_alignement_randomizer(data_overcontact_1), \n",
    "                                 columns=['id', 'Bessell_U',  'Bessell_B',  'Bessell_V',  'Bessell_R',  'Bessell_I',  'overcontact'])"
   ]
  },
  {
   "cell_type": "code",
   "execution_count": 9,
   "metadata": {},
   "outputs": [],
   "source": [
    "data_detached_1= pd.DataFrame(curve_alignement_randomizer(data_detached_1), \n",
    "                                 columns=['id', 'Bessell_U',  'Bessell_B',  'Bessell_V',  'Bessell_R',  'Bessell_I',  'overcontact'])"
   ]
  },
  {
   "cell_type": "code",
   "execution_count": 10,
   "metadata": {},
   "outputs": [
    {
     "data": {
      "text/html": [
       "<div>\n",
       "<style scoped>\n",
       "    .dataframe tbody tr th:only-of-type {\n",
       "        vertical-align: middle;\n",
       "    }\n",
       "\n",
       "    .dataframe tbody tr th {\n",
       "        vertical-align: top;\n",
       "    }\n",
       "\n",
       "    .dataframe thead th {\n",
       "        text-align: right;\n",
       "    }\n",
       "</style>\n",
       "<table border=\"1\" class=\"dataframe\">\n",
       "  <thead>\n",
       "    <tr style=\"text-align: right;\">\n",
       "      <th></th>\n",
       "      <th>id</th>\n",
       "      <th>Bessell_U</th>\n",
       "      <th>Bessell_B</th>\n",
       "      <th>Bessell_V</th>\n",
       "      <th>Bessell_R</th>\n",
       "      <th>Bessell_I</th>\n",
       "      <th>overcontact</th>\n",
       "    </tr>\n",
       "  </thead>\n",
       "  <tbody>\n",
       "    <tr>\n",
       "      <th>0</th>\n",
       "      <td>1</td>\n",
       "      <td>[0.999723147256461, 0.9998263845312357, 0.9999...</td>\n",
       "      <td>[0.999729147335103, 0.9998341245757354, 0.9999...</td>\n",
       "      <td>[0.9997193606202365, 0.9998297654831404, 0.999...</td>\n",
       "      <td>[0.9997101293497717, 0.9998251315085762, 0.999...</td>\n",
       "      <td>[0.9996999473946334, 0.9998205539859434, 0.999...</td>\n",
       "      <td>0</td>\n",
       "    </tr>\n",
       "    <tr>\n",
       "      <th>1</th>\n",
       "      <td>2</td>\n",
       "      <td>[0.999723147256461, 0.9998263845312357, 0.9999...</td>\n",
       "      <td>[0.999729147335103, 0.9998341245757354, 0.9999...</td>\n",
       "      <td>[0.9997193606202365, 0.9998297654831404, 0.999...</td>\n",
       "      <td>[0.9997101293497717, 0.9998251315085762, 0.999...</td>\n",
       "      <td>[0.9996999473946334, 0.9998205539859434, 0.999...</td>\n",
       "      <td>0</td>\n",
       "    </tr>\n",
       "  </tbody>\n",
       "</table>\n",
       "</div>"
      ],
      "text/plain": [
       "  id                                          Bessell_U  \\\n",
       "0  1  [0.999723147256461, 0.9998263845312357, 0.9999...   \n",
       "1  2  [0.999723147256461, 0.9998263845312357, 0.9999...   \n",
       "\n",
       "                                           Bessell_B  \\\n",
       "0  [0.999729147335103, 0.9998341245757354, 0.9999...   \n",
       "1  [0.999729147335103, 0.9998341245757354, 0.9999...   \n",
       "\n",
       "                                           Bessell_V  \\\n",
       "0  [0.9997193606202365, 0.9998297654831404, 0.999...   \n",
       "1  [0.9997193606202365, 0.9998297654831404, 0.999...   \n",
       "\n",
       "                                           Bessell_R  \\\n",
       "0  [0.9997101293497717, 0.9998251315085762, 0.999...   \n",
       "1  [0.9997101293497717, 0.9998251315085762, 0.999...   \n",
       "\n",
       "                                           Bessell_I overcontact  \n",
       "0  [0.9996999473946334, 0.9998205539859434, 0.999...           0  \n",
       "1  [0.9996999473946334, 0.9998205539859434, 0.999...           0  "
      ]
     },
     "execution_count": 10,
     "metadata": {},
     "output_type": "execute_result"
    }
   ],
   "source": [
    "data = pd.concat([data_single_spotty_0, data_overcontact_1, data_detached_1])\n",
    "data.head(2)"
   ]
  },
  {
   "cell_type": "markdown",
   "metadata": {},
   "source": [
    "### Check data "
   ]
  },
  {
   "cell_type": "code",
   "execution_count": 12,
   "metadata": {},
   "outputs": [],
   "source": [
    "\n",
    "data[\"id\"] = data[\"id\"].astype(int)\n",
    "data[\"overcontact\"] = data[\"overcontact\"].astype(int)"
   ]
  },
  {
   "cell_type": "code",
   "execution_count": 13,
   "metadata": {},
   "outputs": [
    {
     "data": {
      "text/plain": [
       "id              int64\n",
       "Bessell_U      object\n",
       "Bessell_B      object\n",
       "Bessell_V      object\n",
       "Bessell_R      object\n",
       "Bessell_I      object\n",
       "overcontact     int64\n",
       "dtype: object"
      ]
     },
     "execution_count": 13,
     "metadata": {},
     "output_type": "execute_result"
    }
   ],
   "source": [
    "data.dtypes"
   ]
  },
  {
   "cell_type": "code",
   "execution_count": 14,
   "metadata": {},
   "outputs": [
    {
     "data": {
      "text/plain": [
       "1    20000\n",
       "0     6853\n",
       "Name: overcontact, dtype: int64"
      ]
     },
     "execution_count": 14,
     "metadata": {},
     "output_type": "execute_result"
    }
   ],
   "source": [
    "data['overcontact'].value_counts()"
   ]
  },
  {
   "cell_type": "markdown",
   "metadata": {},
   "source": [
    "## Data preparation\n",
    "- train_test_split\n",
    "- bessel_to_array -> comma seperated string transforms to array\n",
    "- add noice to train and test sets\n",
    "> musi to byt v tomto poradi lebo ked sa aplikuje noice tak uz nejde urobit train_test_split"
   ]
  },
  {
   "cell_type": "code",
   "execution_count": 15,
   "metadata": {},
   "outputs": [
    {
     "name": "stdout",
     "output_type": "stream",
     "text": [
      "(21482, 7)\n",
      "########\n",
      "8912    1\n",
      "1966    0\n",
      "4088    1\n",
      "628     1\n",
      "3213    0\n",
      "       ..\n",
      "4722    1\n",
      "5390    0\n",
      "860     0\n",
      "8942    1\n",
      "6801    1\n",
      "Name: overcontact, Length: 21482, dtype: int64\n",
      "########\n",
      "(5371, 7)\n",
      "########\n",
      "3136    1\n",
      "2240    0\n",
      "5454    1\n",
      "3096    0\n",
      "988     1\n",
      "       ..\n",
      "2857    1\n",
      "1321    1\n",
      "6529    1\n",
      "7028    1\n",
      "41      0\n",
      "Name: overcontact, Length: 5371, dtype: int64\n",
      "########\n"
     ]
    }
   ],
   "source": [
    "X_train, X_test, y_train, y_test = train_test_split(data, data['overcontact'], test_size=0.2, random_state=42)\n",
    "\n",
    "# Check shapes after split\n",
    "print(X_train.shape)\n",
    "print(\"########\")\n",
    "print(y_train)\n",
    "print(\"########\")\n",
    "print(X_test.shape)\n",
    "print(\"########\")\n",
    "print(y_test)\n",
    "print(\"########\")"
   ]
  },
  {
   "cell_type": "code",
   "execution_count": 16,
   "metadata": {},
   "outputs": [],
   "source": [
    "def bessel_to_array(column_name, df):\n",
    "    \"\"\"Model expects array input. \n",
    "    This function transforms all curves in 1 column (400 comma seperated numbers) to array\"\"\"\n",
    "    newData_bessell = []\n",
    "    for row in df[column_name]:\n",
    "        newRow = []\n",
    "        for valueIndex in range(len(row)):\n",
    "          \n",
    "            newRow.append([row[valueIndex]])\n",
    "        newData_bessell.append(newRow) \n",
    "    newData_bessell = np.array(newData_bessell)\n",
    "    return newData_bessell"
   ]
  },
  {
   "cell_type": "code",
   "execution_count": 17,
   "metadata": {},
   "outputs": [
    {
     "name": "stdout",
     "output_type": "stream",
     "text": [
      "Bessell_U prossessed\n",
      "Bessell_B prossessed\n",
      "Bessell_V prossessed\n",
      "Bessell_R prossessed\n",
      "Bessell_I prossessed\n"
     ]
    }
   ],
   "source": [
    "X_train_with_arrays_noise = []\n",
    "for column in ['Bessell_U','Bessell_B','Bessell_V','Bessell_R','Bessell_I']:\n",
    "    X_train_with_arrays_noise.append(stochastic_noise_generator(bessel_to_array(column, X_train)))\n",
    "    print(column + \" \" + \"prossessed\")"
   ]
  },
  {
   "cell_type": "code",
   "execution_count": 18,
   "metadata": {},
   "outputs": [
    {
     "name": "stdout",
     "output_type": "stream",
     "text": [
      "Bessell_U prossessed\n",
      "Bessell_B prossessed\n",
      "Bessell_V prossessed\n",
      "Bessell_R prossessed\n",
      "Bessell_I prossessed\n"
     ]
    }
   ],
   "source": [
    "X_test_with_arrays_noise = []\n",
    "for column in ['Bessell_U','Bessell_B','Bessell_V','Bessell_R','Bessell_I']:\n",
    "    X_test_with_arrays_noise.append(stochastic_noise_generator(bessel_to_array(column, X_test)))\n",
    "    print(column + \" \" + \"prossessed\")"
   ]
  },
  {
   "cell_type": "code",
   "execution_count": 19,
   "metadata": {},
   "outputs": [
    {
     "name": "stdout",
     "output_type": "stream",
     "text": [
      "(5, 2, 21482, 400, 1)\n",
      "(5, 2, 5371, 400, 1)\n"
     ]
    }
   ],
   "source": [
    "# (5, 2, 16000, 400, 1) -> meaning: \n",
    "# 5 - UBVRI\n",
    "# 16000 - number of curves\n",
    "# 400 - size of 1 curve\n",
    "# 1 - detached or overcontact\n",
    "\n",
    "print(np.array(X_train_with_arrays_noise).shape)\n",
    "print(np.array(X_test_with_arrays_noise).shape)"
   ]
  },
  {
   "cell_type": "code",
   "execution_count": 20,
   "metadata": {},
   "outputs": [
    {
     "data": {
      "text/plain": [
       "[<matplotlib.lines.Line2D at 0x7f5cde37c820>]"
      ]
     },
     "execution_count": 20,
     "metadata": {},
     "output_type": "execute_result"
    },
    {
     "data": {
      "image/png": "[encoded data removed]",
      "text/plain": [
       "<Figure size 432x288 with 1 Axes>"
      ]
     },
     "metadata": {
      "needs_background": "light"
     },
     "output_type": "display_data"
    }
   ],
   "source": [
    "# Check if noice was added successfully\n",
    "plt.plot(X_train_with_arrays_noise[1][0][1500])"
   ]
  },
  {
   "cell_type": "code",
   "execution_count": 21,
   "metadata": {},
   "outputs": [
    {
     "name": "stdout",
     "output_type": "stream",
     "text": [
      "False\n",
      "False\n",
      "False\n",
      "False\n"
     ]
    }
   ],
   "source": [
    "# Check if U,B,V,R,I version of the same curve with noice is different\n",
    "print(np.array_equal(X_train_with_arrays_noise[0][0], X_train_with_arrays_noise[1][0]))\n",
    "print(np.array_equal(X_train_with_arrays_noise[1][0], X_train_with_arrays_noise[2][0]))\n",
    "print(np.array_equal(X_train_with_arrays_noise[2][0], X_train_with_arrays_noise[3][0]))\n",
    "print(np.array_equal(X_train_with_arrays_noise[3][0], X_train_with_arrays_noise[4][0]))"
   ]
  },
  {
   "cell_type": "code",
   "execution_count": 22,
   "metadata": {},
   "outputs": [
    {
     "name": "stdout",
     "output_type": "stream",
     "text": [
      "[1 0 1 ... 0 1 1]\n",
      "True\n",
      "True\n"
     ]
    }
   ],
   "source": [
    "# target is overcontact\n",
    "target = np.array(y_train)\n",
    "print(target)\n",
    "\n",
    "# just to be sure that both types are in dataset\n",
    "exists = 0 in target\n",
    "print(exists)\n",
    "exists = 1 in target\n",
    "print(exists)"
   ]
  },
  {
   "cell_type": "markdown",
   "metadata": {},
   "source": [
    "> Control the shape and check if the dataset is imbalanced (ale nacital som si z oboch 10 000 cize viem ze by mal byt vyvazeny)"
   ]
  },
  {
   "cell_type": "code",
   "execution_count": 23,
   "metadata": {},
   "outputs": [
    {
     "name": "stdout",
     "output_type": "stream",
     "text": [
      "(21482,)\n",
      "(21482, 400, 1)\n",
      "(21482, 400, 1)\n",
      "(21482, 400, 1)\n",
      "(21482, 400, 1)\n",
      "(21482, 400, 1)\n",
      "Counter({1: 16012, 0: 5470})\n"
     ]
    }
   ],
   "source": [
    "print(target.shape)\n",
    "\n",
    "print(X_train_with_arrays_noise[0][0].shape)\n",
    "print(X_train_with_arrays_noise[1][0].shape)\n",
    "print(X_train_with_arrays_noise[2][0].shape)\n",
    "print(X_train_with_arrays_noise[3][0].shape)\n",
    "print(X_train_with_arrays_noise[4][0].shape)\n",
    "\n",
    "print(Counter(target))"
   ]
  },
  {
   "cell_type": "markdown",
   "metadata": {},
   "source": [
    "    - fit and apply the transform"
   ]
  },
  {
   "cell_type": "code",
   "execution_count": 24,
   "metadata": {},
   "outputs": [],
   "source": [
    "def print_shape_counter(column, target):\n",
    "    print(column.shape)\n",
    "    print(target.shape)\n",
    "    print(Counter(target))"
   ]
  },
  {
   "cell_type": "code",
   "execution_count": 25,
   "metadata": {},
   "outputs": [
    {
     "name": "stdout",
     "output_type": "stream",
     "text": [
      "(21482, 400, 1)\n",
      "(21482,)\n",
      "Counter({1: 16012, 0: 5470})\n",
      "\n",
      "(21482, 400, 1)\n",
      "(21482,)\n",
      "Counter({1: 16012, 0: 5470})\n",
      "\n",
      "(21482, 400, 1)\n",
      "(21482,)\n",
      "Counter({1: 16012, 0: 5470})\n",
      "\n",
      "(21482, 400, 1)\n",
      "(21482,)\n",
      "Counter({1: 16012, 0: 5470})\n",
      "\n",
      "(21482, 400, 1)\n",
      "(21482,)\n",
      "Counter({1: 16012, 0: 5470})\n",
      "\n"
     ]
    }
   ],
   "source": [
    "for i in range(5):\n",
    "    print_shape_counter(X_train_with_arrays_noise[i][0], y_train)\n",
    "    print(\"\")"
   ]
  },
  {
   "cell_type": "code",
   "execution_count": 26,
   "metadata": {},
   "outputs": [
    {
     "data": {
      "text/plain": [
       "array([[0., 1.],\n",
       "       [1., 0.],\n",
       "       [0., 1.],\n",
       "       ...,\n",
       "       [1., 0.],\n",
       "       [0., 1.],\n",
       "       [0., 1.]], dtype=float32)"
      ]
     },
     "execution_count": 26,
     "metadata": {},
     "output_type": "execute_result"
    }
   ],
   "source": [
    "# transform to categorical\n",
    "y_train = np_utils.to_categorical(y_train, 2)\n",
    "y_train"
   ]
  },
  {
   "cell_type": "code",
   "execution_count": 27,
   "metadata": {},
   "outputs": [
    {
     "name": "stdout",
     "output_type": "stream",
     "text": [
      "(5, 2, 21482, 400, 1)\n",
      "(21482, 2)\n",
      "[[0. 1.]\n",
      " [1. 0.]\n",
      " [0. 1.]\n",
      " ...\n",
      " [1. 0.]\n",
      " [0. 1.]\n",
      " [0. 1.]]\n"
     ]
    }
   ],
   "source": [
    "#Check shape \n",
    "print(np.array(X_train_with_arrays_noise).shape)\n",
    "print(y_train.shape)\n",
    "print((y_train))"
   ]
  },
  {
   "cell_type": "markdown",
   "metadata": {},
   "source": [
    "## experiment 4 -> Model B"
   ]
  },
  {
   "cell_type": "code",
   "execution_count": 28,
   "metadata": {},
   "outputs": [
    {
     "name": "stdout",
     "output_type": "stream",
     "text": [
      "Model: \"model\"\n",
      "__________________________________________________________________________________________________\n",
      " Layer (type)                   Output Shape         Param #     Connected to                     \n",
      "==================================================================================================\n",
      " input_1 (InputLayer)           [(None, 400, 1)]     0           []                               \n",
      "                                                                                                  \n",
      " conv1d (Conv1D)                (None, 398, 32)      128         ['input_1[0][0]']                \n",
      "                                                                                                  \n",
      " max_pooling1d (MaxPooling1D)   (None, 199, 32)      0           ['conv1d[0][0]']                 \n",
      "                                                                                                  \n",
      " conv1d_1 (Conv1D)              (None, 197, 32)      3104        ['max_pooling1d[0][0]']          \n",
      "                                                                                                  \n",
      " bidirectional (Bidirectional)  (None, 400, 128)     33792       ['input_1[0][0]']                \n",
      "                                                                                                  \n",
      " max_pooling1d_1 (MaxPooling1D)  (None, 98, 32)      0           ['conv1d_1[0][0]']               \n",
      "                                                                                                  \n",
      " flatten (Flatten)              (None, 51200)        0           ['bidirectional[0][0]']          \n",
      "                                                                                                  \n",
      " flatten_1 (Flatten)            (None, 3136)         0           ['max_pooling1d_1[0][0]']        \n",
      "                                                                                                  \n",
      " concatenate (Concatenate)      (None, 54336)        0           ['flatten[0][0]',                \n",
      "                                                                  'flatten_1[0][0]']              \n",
      "                                                                                                  \n",
      " dropout (Dropout)              (None, 54336)        0           ['concatenate[0][0]']            \n",
      "                                                                                                  \n",
      " dense (Dense)                  (None, 32)           1738784     ['dropout[0][0]']                \n",
      "                                                                                                  \n",
      " dense_1 (Dense)                (None, 2)            66          ['dense[0][0]']                  \n",
      "                                                                                                  \n",
      "==================================================================================================\n",
      "Total params: 1,775,874\n",
      "Trainable params: 1,775,874\n",
      "Non-trainable params: 0\n",
      "__________________________________________________________________________________________________\n",
      "None\n"
     ]
    }
   ],
   "source": [
    "inputs = Input(shape=(400,1))\n",
    "\n",
    "a = Bidirectional(LSTM(64, return_sequences=True,dropout=0.1,recurrent_dropout=0.1))(inputs)\n",
    "a = Flatten()(a)\n",
    "\n",
    "b = Conv1D(32, kernel_size = 3, padding = \"valid\", input_shape=(400,1))(inputs)\n",
    "b = MaxPooling1D(2)(b)\n",
    "b = Conv1D(32, kernel_size = 3, padding = \"valid\")(b)\n",
    "b = MaxPooling1D(2)(b)\n",
    "b = Flatten()(b)\n",
    "\n",
    "x = concatenate([a,b])\n",
    "x = Dropout(0.2)(x)\n",
    "x = Dense(32, activation='relu')(x)\n",
    "\n",
    "output = Dense(2, activation='softmax')(x)\n",
    "classifier = Model(inputs=inputs, outputs=output)\n",
    "classifier.compile(loss='categorical_crossentropy', optimizer='adam', metrics=['acc'])\n",
    "print(classifier.summary())"
   ]
  },
  {
   "cell_type": "code",
   "execution_count": 29,
   "metadata": {},
   "outputs": [],
   "source": [
    "saved_model = \"model_experiment_6.hdf5\"\n",
    "checkpoint = ModelCheckpoint(saved_model, monitor='val_acc', verbose=1, save_best_only=True, mode='max')\n",
    "early = EarlyStopping(monitor=\"val_acc\", mode=\"max\", patience=3)\n",
    "callbacks_list = [checkpoint, early]"
   ]
  },
  {
   "cell_type": "code",
   "execution_count": 30,
   "metadata": {},
   "outputs": [],
   "source": [
    "x_train = np.concatenate((X_train_with_arrays_noise[0][0],\n",
    "                          X_train_with_arrays_noise[1][0], \n",
    "                          X_train_with_arrays_noise[2][0], \n",
    "                          X_train_with_arrays_noise[3][0],\n",
    "                          X_train_with_arrays_noise[4][0])) "
   ]
  },
  {
   "cell_type": "code",
   "execution_count": 31,
   "metadata": {},
   "outputs": [],
   "source": [
    "y_train_mixed = np.concatenate((y_train,\n",
    "                                y_train, \n",
    "                                y_train, \n",
    "                                y_train,\n",
    "                                y_train)) "
   ]
  },
  {
   "cell_type": "code",
   "execution_count": 32,
   "metadata": {},
   "outputs": [
    {
     "name": "stdout",
     "output_type": "stream",
     "text": [
      "Epoch 1/10\n",
      "672/672 [==============================] - ETA: 0s - loss: 0.5499 - acc: 0.7452\n",
      "Epoch 1: val_acc improved from -inf to 0.75873, saving model to model_experiment_6.hdf5\n",
      "672/672 [==============================] - 269s 394ms/step - loss: 0.5499 - acc: 0.7452 - val_loss: 0.4428 - val_acc: 0.7587\n",
      "Epoch 2/10\n",
      "672/672 [==============================] - ETA: 0s - loss: 0.3377 - acc: 0.8299\n",
      "Epoch 2: val_acc improved from 0.75873 to 0.86026, saving model to model_experiment_6.hdf5\n",
      "672/672 [==============================] - 263s 391ms/step - loss: 0.3377 - acc: 0.8299 - val_loss: 0.2802 - val_acc: 0.8603\n",
      "Epoch 3/10\n",
      "672/672 [==============================] - ETA: 0s - loss: 0.2431 - acc: 0.8791\n",
      "Epoch 3: val_acc improved from 0.86026 to 0.88567, saving model to model_experiment_6.hdf5\n",
      "672/672 [==============================] - 265s 395ms/step - loss: 0.2431 - acc: 0.8791 - val_loss: 0.2241 - val_acc: 0.8857\n",
      "Epoch 4/10\n",
      "672/672 [==============================] - ETA: 0s - loss: 0.2044 - acc: 0.8980\n",
      "Epoch 4: val_acc improved from 0.88567 to 0.89940, saving model to model_experiment_6.hdf5\n",
      "672/672 [==============================] - 269s 400ms/step - loss: 0.2044 - acc: 0.8980 - val_loss: 0.1937 - val_acc: 0.8994\n",
      "Epoch 5/10\n",
      "672/672 [==============================] - ETA: 0s - loss: 0.1843 - acc: 0.9084\n",
      "Epoch 5: val_acc did not improve from 0.89940\n",
      "672/672 [==============================] - 271s 404ms/step - loss: 0.1843 - acc: 0.9084 - val_loss: 0.1991 - val_acc: 0.8902\n",
      "Epoch 6/10\n",
      "672/672 [==============================] - ETA: 0s - loss: 0.1825 - acc: 0.9106\n",
      "Epoch 6: val_acc improved from 0.89940 to 0.91602, saving model to model_experiment_6.hdf5\n",
      "672/672 [==============================] - 264s 392ms/step - loss: 0.1825 - acc: 0.9106 - val_loss: 0.1682 - val_acc: 0.9160\n",
      "Epoch 7/10\n",
      "672/672 [==============================] - ETA: 0s - loss: 0.1686 - acc: 0.9171\n",
      "Epoch 7: val_acc did not improve from 0.91602\n",
      "672/672 [==============================] - 263s 391ms/step - loss: 0.1686 - acc: 0.9171 - val_loss: 0.1930 - val_acc: 0.9069\n",
      "Epoch 8/10\n",
      "672/672 [==============================] - ETA: 0s - loss: 0.1648 - acc: 0.9196\n",
      "Epoch 8: val_acc did not improve from 0.91602\n",
      "672/672 [==============================] - 262s 390ms/step - loss: 0.1648 - acc: 0.9196 - val_loss: 0.1785 - val_acc: 0.9029\n",
      "Epoch 9/10\n",
      "672/672 [==============================] - ETA: 0s - loss: 0.1649 - acc: 0.9206\n",
      "Epoch 9: val_acc improved from 0.91602 to 0.93427, saving model to model_experiment_6.hdf5\n",
      "672/672 [==============================] - 263s 391ms/step - loss: 0.1649 - acc: 0.9206 - val_loss: 0.1484 - val_acc: 0.9343\n",
      "Epoch 10/10\n",
      "672/672 [==============================] - ETA: 0s - loss: 0.1487 - acc: 0.9291\n",
      "Epoch 10: val_acc did not improve from 0.93427\n",
      "672/672 [==============================] - 263s 391ms/step - loss: 0.1487 - acc: 0.9291 - val_loss: 0.1472 - val_acc: 0.9215\n"
     ]
    }
   ],
   "source": [
    "history = classifier.fit(x_train, y_train_mixed, validation_split=0.2, epochs=10, batch_size=128, verbose=1, callbacks = callbacks_list)"
   ]
  },
  {
   "cell_type": "code",
   "execution_count": 33,
   "metadata": {},
   "outputs": [],
   "source": [
    "# Define function for plot loss and accuracy during training\n",
    "def trainingLoss(history):\n",
    "    plt.style.use('ggplot')\n",
    "    plt.plot(history.history['acc'])\n",
    "    plt.plot(history.history['val_acc'])\n",
    "    plt.title('')\n",
    "    plt.ylabel('Accuracy')\n",
    "    plt.xlabel('Epochs')\n",
    "    plt.legend(['train', 'validation'], loc='upper left')\n",
    "    plt.savefig('tarin1.png', bbox_inches='tight')\n",
    "    plt.show()\n",
    "    plt.style.use('ggplot')\n",
    "    plt.plot(history.history['loss'])\n",
    "    plt.plot(history.history['val_loss'])\n",
    "    plt.title('')\n",
    "    plt.ylabel('Loss')\n",
    "    plt.xlabel('Epochs')\n",
    "    plt.legend(['train', 'validation'], loc='upper left')\n",
    "    plt.savefig('tarin2.png', )\n",
    "    plt.show()"
   ]
  },
  {
   "cell_type": "markdown",
   "metadata": {},
   "source": [
    "Plot training graphs"
   ]
  },
  {
   "cell_type": "code",
   "execution_count": 34,
   "metadata": {},
   "outputs": [
    {
     "data": {
      "image/png": "[encoded data removed]",
      "text/plain": [
       "<Figure size 432x288 with 1 Axes>"
      ]
     },
     "metadata": {},
     "output_type": "display_data"
    },
    {
     "data": {
      "image/png": "[encoded data removed]",
      "text/plain": [
       "<Figure size 432x288 with 1 Axes>"
      ]
     },
     "metadata": {},
     "output_type": "display_data"
    }
   ],
   "source": [
    "trainingLoss(history)"
   ]
  },
  {
   "cell_type": "markdown",
   "metadata": {},
   "source": [
    "# Model experiment 4 evaluation"
   ]
  },
  {
   "cell_type": "code",
   "execution_count": 35,
   "metadata": {},
   "outputs": [],
   "source": [
    "def evaluate_all(model_path, input_data, y_test):\n",
    "    classifier = load_model(model_path)\n",
    "    # y_pred returns probability of detached and overcontact \n",
    "    # for example [1.4059671e-04, 9.9985933e-01], \n",
    "    # means detached with prob. 0.0001405  and overcontact with prob 0.998\n",
    "    y_pred = classifier.predict(input_data)\n",
    "    # print(y_pred)\n",
    "    \n",
    "    # for example [1.4059671e-04, 9.9985933e-01] -> [0, 1], it is marked as detached \n",
    "    y_pred2 = np.where(y_pred > 0.5, 1, 0)\n",
    "    \n",
    "    # test data [0,1,...] is converted to categorical [[0,1],[1,0]]\n",
    "    target_test = np.array(y_test)\n",
    "    target_test = np_utils.to_categorical(target_test, 2)\n",
    "    \n",
    "    # confusion matrix -old \n",
    "    # cm = confusion_matrix(target_test.argmax(axis=1), y_pred2.argmax(axis=1))\n",
    "    # print(\"Confusion matrix: \\n\" + str(cm))\n",
    "    \n",
    "    # confusion matrix - nice print \n",
    "    matrix=skplt.metrics.plot_confusion_matrix(target_test.argmax(axis=1), y_pred2.argmax(axis=1))\n",
    "    matrix.xaxis.set_ticklabels(['single spotty', 'binary star'])\n",
    "    matrix.yaxis.set_ticklabels(['single spotty', 'binary star'])\n",
    "    matrix\n",
    "    \n",
    "    target_names= ['single spotty', 'overcontact']\n",
    "    print(\"Classification report: \\n\" + classification_report(target_test.argmax(axis=1), y_pred2.argmax(axis=1),target_names=target_names))\n",
    "\n",
    "    # from categorical [0, 1] -> 1\n",
    "    y_true = target_test.argmax(axis=1)\n",
    "    \n",
    "    skplt.metrics.plot_roc(y_true, y_pred)\n",
    "    plt.savefig('roc_auc.png')\n",
    "    plt.show()\n",
    "    \n",
    "    input_data = np.array(input_data)\n",
    "    \n",
    "    \n",
    "    limit_plot=0\n",
    "    for j in range(len(y_pred2)): \n",
    "        if (y_pred2[j].argmax(axis=0) == 1) and (target_test[j].argmax(axis=0) == 0):\n",
    "            if input_data.ndim == 4:\n",
    "                plt.plot(input_data[0][j],label = str(y_test.iloc[[j]].index[0]) + \", \" +str(y_test.iloc[[j]].values[0]))\n",
    "                fig1 = plt.figure(1)\n",
    "                fig1.text(0.45, 0.9, \"single spotty 0\", ha=\"center\", va=\"bottom\", color=\"green\")\n",
    "                fig1.text(0.53, 0.9, \"/\", ha=\"center\", va=\"bottom\",  color=\"black\")\n",
    "                fig1.text(0.62, 0.9, \"overcontact 1\", ha=\"center\", va=\"bottom\",  color=\"red\")\n",
    "                limit_plot=limit_plot+1\n",
    "            else:\n",
    "                plt.plot(input_data[j],label = str(y_test.iloc[[j]].index[0]) + \", \" +str(y_test.iloc[[j]].values[0]))\n",
    "                fig1 = plt.figure(1)\n",
    "                fig1.text(0.45, 0.9, \"single spotty 0\", ha=\"center\", va=\"bottom\" ,color=\"green\")\n",
    "                fig1.text(0.53, 0.9, \"/\", ha=\"center\", va=\"bottom\",  color=\"black\")\n",
    "                fig1.text(0.62,0.9, \"overcontact 1\", ha=\"center\", va=\"bottom\",  color=\"red\")\n",
    "                limit_plot=limit_plot+1\n",
    "            if limit_plot == 2:\n",
    "                break \n",
    "\n",
    "    \n",
    "    plt.legend(loc='upper right')       \n",
    "    plt.savefig('image.png')\n",
    "    plt.show()     \n",
    "\n",
    "\n",
    "    limit_plot2=0\n",
    "    for j in range(len(y_pred2)): \n",
    "        if (y_pred2[j].argmax(axis=0) == 0) and (target_test[j].argmax(axis=0) == 1):\n",
    "            if input_data.ndim == 4:\n",
    "                plt.plot(input_data[0][j],label = str(y_test.iloc[[j]].index[0]) + \", \" +str(y_test.iloc[[j]].values[0]))\n",
    "                fig1 = plt.figure(1)\n",
    "                fig1.text(0.45, 0.9, \"single spotty 0\", ha=\"center\", va=\"bottom\", color=\"red\")\n",
    "                fig1.text(0.53, 0.9, \"/\", ha=\"center\", va=\"bottom\",  color=\"black\")\n",
    "                fig1.text(0.62, 0.9, \"overcontact 1\", ha=\"center\", va=\"bottom\",  color=\"green\")\n",
    "                limit_plot2=limit_plot2+1\n",
    "                \n",
    "            else:\n",
    "                plt.plot(input_data[j],label = str(y_test.iloc[[j]].index[0]) + \", \" +str(y_test.iloc[[j]].values[0]))\n",
    "                fig1 = plt.figure(1)\n",
    "                fig1.text(0.45, 0.9, \"single spotty 0\", ha=\"center\", va=\"bottom\", color=\"red\")\n",
    "                fig1.text(0.53, 0.9, \"/\", ha=\"center\", va=\"bottom\",  color=\"black\")\n",
    "                fig1.text(0.62, 0.9, \"overcontact 1\", ha=\"center\", va=\"bottom\",  color=\"green\")\n",
    "                limit_plot2=limit_plot2+1\n",
    "            if limit_plot2 == 2:\n",
    "                break \n",
    "    \n",
    "    plt.legend(loc='upper right')       \n",
    "    plt.savefig('image2.png')\n",
    "    plt.show()"
   ]
  },
  {
   "cell_type": "code",
   "execution_count": 36,
   "metadata": {},
   "outputs": [
    {
     "name": "stdout",
     "output_type": "stream",
     "text": [
      "(26855,)\n",
      "(26855, 400, 1)\n",
      "Classification report: \n",
      "               precision    recall  f1-score   support\n",
      "\n",
      "single spotty       0.84      0.81      0.83      6915\n",
      "  overcontact       0.94      0.95      0.94     19940\n",
      "\n",
      "     accuracy                           0.91     26855\n",
      "    macro avg       0.89      0.88      0.88     26855\n",
      " weighted avg       0.91      0.91      0.91     26855\n",
      "\n"
     ]
    },
    {
     "data": {
      "image/png": "[encoded data removed]",
      "text/plain": [
       "<Figure size 432x288 with 2 Axes>"
      ]
     },
     "metadata": {},
     "output_type": "display_data"
    },
    {
     "data": {
      "image/png": "[encoded data removed]",
      "text/plain": [
       "<Figure size 432x288 with 1 Axes>"
      ]
     },
     "metadata": {},
     "output_type": "display_data"
    },
    {
     "data": {
      "image/png": "[encoded data removed]",
      "text/plain": [
       "<Figure size 432x288 with 1 Axes>"
      ]
     },
     "metadata": {},
     "output_type": "display_data"
    },
    {
     "data": {
      "image/png": "[encoded data removed]",
      "text/plain": [
       "<Figure size 432x288 with 1 Axes>"
      ]
     },
     "metadata": {},
     "output_type": "display_data"
    }
   ],
   "source": [
    "processed_test_data= np.concatenate((\n",
    " X_test_with_arrays_noise[0][0],\n",
    " X_test_with_arrays_noise[1][0],\n",
    " X_test_with_arrays_noise[2][0],\n",
    " X_test_with_arrays_noise[3][0],\n",
    " X_test_with_arrays_noise[4][0]))\n",
    "\n",
    "y_test_mixed = pd.concat([y_test,\n",
    "                            y_test, \n",
    "                            y_test, \n",
    "                            y_test,\n",
    "                            y_test]) \n",
    "print(y_test_mixed.shape)\n",
    "print(processed_test_data.shape)\n",
    "\n",
    "evaluate_all('model_experiment_4.hdf5', processed_test_data, y_test_mixed)"
   ]
  }
 ],
 "metadata": {
  "kernelspec": {
   "display_name": "Python 3",
   "language": "python",
   "name": "python3"
  },
  "language_info": {
   "codemirror_mode": {
    "name": "ipython",
    "version": 3
   },
   "file_extension": ".py",
   "mimetype": "text/x-python",
   "name": "python",
   "nbconvert_exporter": "python",
   "pygments_lexer": "ipython3",
   "version": "3.8.6"
  }
 },
 "nbformat": 4,
 "nbformat_minor": 4
}
