{
 "cells": [
  {
   "cell_type": "code",
   "execution_count": 2,
   "metadata": {},
   "outputs": [],
   "source": [
    "import numpy as np\n",
    "import pandas as pd\n",
    "import sqlite3\n",
    "import matplotlib.pyplot as plt"
   ]
  },
  {
   "cell_type": "code",
   "execution_count": 3,
   "metadata": {},
   "outputs": [],
   "source": [
    "import io\n",
    "def get_curve(txt):\n",
    "    out = io.BytesIO(txt)\n",
    "    out.seek(0)\n",
    "    return np.load(out)"
   ]
  },
  {
   "cell_type": "code",
   "execution_count": 4,
   "metadata": {},
   "outputs": [],
   "source": [
    "FILEPATH = '/home/jovyan/data/lightning/data-upjs/single_spotty.db'\n",
    "# creating a connection to a .db file in sqllite format\n",
    "conn = sqlite3.connect(FILEPATH)"
   ]
  },
  {
   "cell_type": "code",
   "execution_count": 5,
   "metadata": {},
   "outputs": [
    {
     "name": "stdout",
     "output_type": "stream",
     "text": [
      "[('parameters',), ('curves',), ('auxiliary',)]\n"
     ]
    }
   ],
   "source": [
    "# retrieve table names from the database\n",
    "sql_query = \"\"\"SELECT name FROM sqlite_master WHERE type='table';\"\"\"\n",
    "cursor = conn.cursor()\n",
    "cursor.execute(sql_query)\n",
    "print(cursor.fetchall())"
   ]
  },
  {
   "cell_type": "code",
   "execution_count": 6,
   "metadata": {},
   "outputs": [
    {
     "data": {
      "text/html": [
       "<div>\n",
       "<style scoped>\n",
       "    .dataframe tbody tr th:only-of-type {\n",
       "        vertical-align: middle;\n",
       "    }\n",
       "\n",
       "    .dataframe tbody tr th {\n",
       "        vertical-align: top;\n",
       "    }\n",
       "\n",
       "    .dataframe thead th {\n",
       "        text-align: right;\n",
       "    }\n",
       "</style>\n",
       "<table border=\"1\" class=\"dataframe\">\n",
       "  <thead>\n",
       "    <tr style=\"text-align: right;\">\n",
       "      <th></th>\n",
       "      <th>id</th>\n",
       "      <th>star__mass</th>\n",
       "      <th>star__t_eff</th>\n",
       "      <th>inclination</th>\n",
       "      <th>rotation_period</th>\n",
       "      <th>star__polar_log_g</th>\n",
       "      <th>star__equivalent_radius</th>\n",
       "      <th>star__spot1_longitude</th>\n",
       "      <th>star__spot1_latitude</th>\n",
       "      <th>star__spot1_angular_radius</th>\n",
       "      <th>star__spot1_temperature_factor</th>\n",
       "    </tr>\n",
       "  </thead>\n",
       "  <tbody>\n",
       "    <tr>\n",
       "      <th>0</th>\n",
       "      <td>1</td>\n",
       "      <td>1.516129e+31</td>\n",
       "      <td>18939.16619</td>\n",
       "      <td>0.794016</td>\n",
       "      <td>94.892819</td>\n",
       "      <td>2.108636</td>\n",
       "      <td>2.807034e+09</td>\n",
       "      <td>1.356982</td>\n",
       "      <td>6.282311</td>\n",
       "      <td>0.721762</td>\n",
       "      <td>1.025005</td>\n",
       "    </tr>\n",
       "    <tr>\n",
       "      <th>1</th>\n",
       "      <td>2</td>\n",
       "      <td>1.516129e+31</td>\n",
       "      <td>18939.16619</td>\n",
       "      <td>0.794016</td>\n",
       "      <td>94.892819</td>\n",
       "      <td>2.108636</td>\n",
       "      <td>2.807034e+09</td>\n",
       "      <td>1.356982</td>\n",
       "      <td>6.282311</td>\n",
       "      <td>0.721762</td>\n",
       "      <td>1.025005</td>\n",
       "    </tr>\n",
       "    <tr>\n",
       "      <th>2</th>\n",
       "      <td>3</td>\n",
       "      <td>1.516129e+31</td>\n",
       "      <td>18939.16619</td>\n",
       "      <td>0.794016</td>\n",
       "      <td>94.892819</td>\n",
       "      <td>2.108636</td>\n",
       "      <td>2.807034e+09</td>\n",
       "      <td>1.356982</td>\n",
       "      <td>6.282311</td>\n",
       "      <td>0.721762</td>\n",
       "      <td>1.025005</td>\n",
       "    </tr>\n",
       "    <tr>\n",
       "      <th>3</th>\n",
       "      <td>4</td>\n",
       "      <td>1.516129e+31</td>\n",
       "      <td>18939.16619</td>\n",
       "      <td>0.794016</td>\n",
       "      <td>94.892819</td>\n",
       "      <td>2.108636</td>\n",
       "      <td>2.807034e+09</td>\n",
       "      <td>1.356982</td>\n",
       "      <td>6.282311</td>\n",
       "      <td>0.721762</td>\n",
       "      <td>1.025005</td>\n",
       "    </tr>\n",
       "    <tr>\n",
       "      <th>4</th>\n",
       "      <td>5</td>\n",
       "      <td>1.516129e+31</td>\n",
       "      <td>18939.16619</td>\n",
       "      <td>0.794016</td>\n",
       "      <td>94.892819</td>\n",
       "      <td>2.108636</td>\n",
       "      <td>2.807034e+09</td>\n",
       "      <td>1.356982</td>\n",
       "      <td>6.282311</td>\n",
       "      <td>0.721762</td>\n",
       "      <td>1.025005</td>\n",
       "    </tr>\n",
       "  </tbody>\n",
       "</table>\n",
       "</div>"
      ],
      "text/plain": [
       "   id    star__mass  star__t_eff  inclination  rotation_period  \\\n",
       "0   1  1.516129e+31  18939.16619     0.794016        94.892819   \n",
       "1   2  1.516129e+31  18939.16619     0.794016        94.892819   \n",
       "2   3  1.516129e+31  18939.16619     0.794016        94.892819   \n",
       "3   4  1.516129e+31  18939.16619     0.794016        94.892819   \n",
       "4   5  1.516129e+31  18939.16619     0.794016        94.892819   \n",
       "\n",
       "   star__polar_log_g  star__equivalent_radius  star__spot1_longitude  \\\n",
       "0           2.108636             2.807034e+09               1.356982   \n",
       "1           2.108636             2.807034e+09               1.356982   \n",
       "2           2.108636             2.807034e+09               1.356982   \n",
       "3           2.108636             2.807034e+09               1.356982   \n",
       "4           2.108636             2.807034e+09               1.356982   \n",
       "\n",
       "   star__spot1_latitude  star__spot1_angular_radius  \\\n",
       "0              6.282311                    0.721762   \n",
       "1              6.282311                    0.721762   \n",
       "2              6.282311                    0.721762   \n",
       "3              6.282311                    0.721762   \n",
       "4              6.282311                    0.721762   \n",
       "\n",
       "   star__spot1_temperature_factor  \n",
       "0                        1.025005  \n",
       "1                        1.025005  \n",
       "2                        1.025005  \n",
       "3                        1.025005  \n",
       "4                        1.025005  "
      ]
     },
     "execution_count": 6,
     "metadata": {},
     "output_type": "execute_result"
    }
   ],
   "source": [
    "# load the table 'parameters'\n",
    "df_parameters = pd.read_sql_query(\"SELECT * FROM parameters\", conn)\n",
    "df_parameters.head()"
   ]
  },
  {
   "cell_type": "code",
   "execution_count": 8,
   "metadata": {},
   "outputs": [],
   "source": [
    "# create new column 'overcontact' and set values to 0\n",
    "df_parameters['overcontact'] = 0"
   ]
  },
  {
   "cell_type": "code",
   "execution_count": 15,
   "metadata": {},
   "outputs": [],
   "source": [
    "# load the table 'curves'\n",
    "df_curves = pd.read_sql_query(\"SELECT * FROM curves\", conn)\n",
    "conn.close()"
   ]
  },
  {
   "cell_type": "code",
   "execution_count": 16,
   "metadata": {},
   "outputs": [
    {
     "data": {
      "text/html": [
       "<div>\n",
       "<style scoped>\n",
       "    .dataframe tbody tr th:only-of-type {\n",
       "        vertical-align: middle;\n",
       "    }\n",
       "\n",
       "    .dataframe tbody tr th {\n",
       "        vertical-align: top;\n",
       "    }\n",
       "\n",
       "    .dataframe thead th {\n",
       "        text-align: right;\n",
       "    }\n",
       "</style>\n",
       "<table border=\"1\" class=\"dataframe\">\n",
       "  <thead>\n",
       "    <tr style=\"text-align: right;\">\n",
       "      <th></th>\n",
       "      <th>id</th>\n",
       "      <th>Bessell_U</th>\n",
       "      <th>Bessell_B</th>\n",
       "      <th>Bessell_V</th>\n",
       "      <th>Bessell_R</th>\n",
       "      <th>Bessell_I</th>\n",
       "      <th>SLOAN_u</th>\n",
       "      <th>SLOAN_g</th>\n",
       "      <th>SLOAN_r</th>\n",
       "      <th>SLOAN_i</th>\n",
       "      <th>SLOAN_z</th>\n",
       "      <th>Kepler</th>\n",
       "      <th>GaiaDR2</th>\n",
       "      <th>TESS</th>\n",
       "    </tr>\n",
       "  </thead>\n",
       "  <tbody>\n",
       "    <tr>\n",
       "      <th>0</th>\n",
       "      <td>1</td>\n",
       "      <td>b'\\x93NUMPY\\x01\\x00v\\x00{\\'descr\\': \\'&lt;f8\\', \\...</td>\n",
       "      <td>b'\\x93NUMPY\\x01\\x00v\\x00{\\'descr\\': \\'&lt;f8\\', \\...</td>\n",
       "      <td>b'\\x93NUMPY\\x01\\x00v\\x00{\\'descr\\': \\'&lt;f8\\', \\...</td>\n",
       "      <td>b'\\x93NUMPY\\x01\\x00v\\x00{\\'descr\\': \\'&lt;f8\\', \\...</td>\n",
       "      <td>b'\\x93NUMPY\\x01\\x00v\\x00{\\'descr\\': \\'&lt;f8\\', \\...</td>\n",
       "      <td>b'\\x93NUMPY\\x01\\x00v\\x00{\\'descr\\': \\'&lt;f8\\', \\...</td>\n",
       "      <td>b'\\x93NUMPY\\x01\\x00v\\x00{\\'descr\\': \\'&lt;f8\\', \\...</td>\n",
       "      <td>b'\\x93NUMPY\\x01\\x00v\\x00{\\'descr\\': \\'&lt;f8\\', \\...</td>\n",
       "      <td>b'\\x93NUMPY\\x01\\x00v\\x00{\\'descr\\': \\'&lt;f8\\', \\...</td>\n",
       "      <td>b'\\x93NUMPY\\x01\\x00v\\x00{\\'descr\\': \\'&lt;f8\\', \\...</td>\n",
       "      <td>b'\\x93NUMPY\\x01\\x00v\\x00{\\'descr\\': \\'&lt;f8\\', \\...</td>\n",
       "      <td>b'\\x93NUMPY\\x01\\x00v\\x00{\\'descr\\': \\'&lt;f8\\', \\...</td>\n",
       "      <td>b'\\x93NUMPY\\x01\\x00v\\x00{\\'descr\\': \\'&lt;f8\\', \\...</td>\n",
       "    </tr>\n",
       "    <tr>\n",
       "      <th>1</th>\n",
       "      <td>2</td>\n",
       "      <td>b'\\x93NUMPY\\x01\\x00v\\x00{\\'descr\\': \\'&lt;f8\\', \\...</td>\n",
       "      <td>b'\\x93NUMPY\\x01\\x00v\\x00{\\'descr\\': \\'&lt;f8\\', \\...</td>\n",
       "      <td>b'\\x93NUMPY\\x01\\x00v\\x00{\\'descr\\': \\'&lt;f8\\', \\...</td>\n",
       "      <td>b'\\x93NUMPY\\x01\\x00v\\x00{\\'descr\\': \\'&lt;f8\\', \\...</td>\n",
       "      <td>b'\\x93NUMPY\\x01\\x00v\\x00{\\'descr\\': \\'&lt;f8\\', \\...</td>\n",
       "      <td>b'\\x93NUMPY\\x01\\x00v\\x00{\\'descr\\': \\'&lt;f8\\', \\...</td>\n",
       "      <td>b'\\x93NUMPY\\x01\\x00v\\x00{\\'descr\\': \\'&lt;f8\\', \\...</td>\n",
       "      <td>b'\\x93NUMPY\\x01\\x00v\\x00{\\'descr\\': \\'&lt;f8\\', \\...</td>\n",
       "      <td>b'\\x93NUMPY\\x01\\x00v\\x00{\\'descr\\': \\'&lt;f8\\', \\...</td>\n",
       "      <td>b'\\x93NUMPY\\x01\\x00v\\x00{\\'descr\\': \\'&lt;f8\\', \\...</td>\n",
       "      <td>b'\\x93NUMPY\\x01\\x00v\\x00{\\'descr\\': \\'&lt;f8\\', \\...</td>\n",
       "      <td>b'\\x93NUMPY\\x01\\x00v\\x00{\\'descr\\': \\'&lt;f8\\', \\...</td>\n",
       "      <td>b'\\x93NUMPY\\x01\\x00v\\x00{\\'descr\\': \\'&lt;f8\\', \\...</td>\n",
       "    </tr>\n",
       "  </tbody>\n",
       "</table>\n",
       "</div>"
      ],
      "text/plain": [
       "   id                                          Bessell_U  \\\n",
       "0   1  b'\\x93NUMPY\\x01\\x00v\\x00{\\'descr\\': \\'<f8\\', \\...   \n",
       "1   2  b'\\x93NUMPY\\x01\\x00v\\x00{\\'descr\\': \\'<f8\\', \\...   \n",
       "\n",
       "                                           Bessell_B  \\\n",
       "0  b'\\x93NUMPY\\x01\\x00v\\x00{\\'descr\\': \\'<f8\\', \\...   \n",
       "1  b'\\x93NUMPY\\x01\\x00v\\x00{\\'descr\\': \\'<f8\\', \\...   \n",
       "\n",
       "                                           Bessell_V  \\\n",
       "0  b'\\x93NUMPY\\x01\\x00v\\x00{\\'descr\\': \\'<f8\\', \\...   \n",
       "1  b'\\x93NUMPY\\x01\\x00v\\x00{\\'descr\\': \\'<f8\\', \\...   \n",
       "\n",
       "                                           Bessell_R  \\\n",
       "0  b'\\x93NUMPY\\x01\\x00v\\x00{\\'descr\\': \\'<f8\\', \\...   \n",
       "1  b'\\x93NUMPY\\x01\\x00v\\x00{\\'descr\\': \\'<f8\\', \\...   \n",
       "\n",
       "                                           Bessell_I  \\\n",
       "0  b'\\x93NUMPY\\x01\\x00v\\x00{\\'descr\\': \\'<f8\\', \\...   \n",
       "1  b'\\x93NUMPY\\x01\\x00v\\x00{\\'descr\\': \\'<f8\\', \\...   \n",
       "\n",
       "                                             SLOAN_u  \\\n",
       "0  b'\\x93NUMPY\\x01\\x00v\\x00{\\'descr\\': \\'<f8\\', \\...   \n",
       "1  b'\\x93NUMPY\\x01\\x00v\\x00{\\'descr\\': \\'<f8\\', \\...   \n",
       "\n",
       "                                             SLOAN_g  \\\n",
       "0  b'\\x93NUMPY\\x01\\x00v\\x00{\\'descr\\': \\'<f8\\', \\...   \n",
       "1  b'\\x93NUMPY\\x01\\x00v\\x00{\\'descr\\': \\'<f8\\', \\...   \n",
       "\n",
       "                                             SLOAN_r  \\\n",
       "0  b'\\x93NUMPY\\x01\\x00v\\x00{\\'descr\\': \\'<f8\\', \\...   \n",
       "1  b'\\x93NUMPY\\x01\\x00v\\x00{\\'descr\\': \\'<f8\\', \\...   \n",
       "\n",
       "                                             SLOAN_i  \\\n",
       "0  b'\\x93NUMPY\\x01\\x00v\\x00{\\'descr\\': \\'<f8\\', \\...   \n",
       "1  b'\\x93NUMPY\\x01\\x00v\\x00{\\'descr\\': \\'<f8\\', \\...   \n",
       "\n",
       "                                             SLOAN_z  \\\n",
       "0  b'\\x93NUMPY\\x01\\x00v\\x00{\\'descr\\': \\'<f8\\', \\...   \n",
       "1  b'\\x93NUMPY\\x01\\x00v\\x00{\\'descr\\': \\'<f8\\', \\...   \n",
       "\n",
       "                                              Kepler  \\\n",
       "0  b'\\x93NUMPY\\x01\\x00v\\x00{\\'descr\\': \\'<f8\\', \\...   \n",
       "1  b'\\x93NUMPY\\x01\\x00v\\x00{\\'descr\\': \\'<f8\\', \\...   \n",
       "\n",
       "                                             GaiaDR2  \\\n",
       "0  b'\\x93NUMPY\\x01\\x00v\\x00{\\'descr\\': \\'<f8\\', \\...   \n",
       "1  b'\\x93NUMPY\\x01\\x00v\\x00{\\'descr\\': \\'<f8\\', \\...   \n",
       "\n",
       "                                                TESS  \n",
       "0  b'\\x93NUMPY\\x01\\x00v\\x00{\\'descr\\': \\'<f8\\', \\...  \n",
       "1  b'\\x93NUMPY\\x01\\x00v\\x00{\\'descr\\': \\'<f8\\', \\...  "
      ]
     },
     "execution_count": 16,
     "metadata": {},
     "output_type": "execute_result"
    }
   ],
   "source": [
    "df_curves.head(2)"
   ]
  },
  {
   "cell_type": "code",
   "execution_count": 17,
   "metadata": {},
   "outputs": [
    {
     "name": "stdout",
     "output_type": "stream",
     "text": [
      "[1.87585069e-309 1.17119999e+171 5.22741680e-037 8.44740097e+252\n",
      " 2.65141232e+180 9.92152605e+247 2.16209968e+233 1.39938206e-076\n",
      " 6.01399921e-154 6.01347002e-154 6.01347002e-154 6.01347002e-154\n",
      " 6.01347002e-154 6.01347002e-154 6.01347002e-154 6.55490914e-260\n",
      " 9.99599841e-001 9.99609303e-001 9.99618614e-001 9.99628327e-001\n",
      " 9.99637963e-001 9.99647808e-001 9.99657210e-001 9.99666293e-001\n",
      " 9.99675257e-001 9.99685100e-001 9.99694814e-001 9.99704129e-001\n",
      " 9.99713748e-001 9.99723907e-001 9.99733653e-001 9.99744069e-001\n",
      " 9.99755454e-001 9.99766893e-001 9.99777961e-001 9.99788657e-001\n",
      " 9.99798976e-001 9.99808918e-001 9.99818479e-001 9.99827657e-001\n",
      " 9.99836949e-001 9.99845861e-001 9.99854373e-001 9.99862597e-001\n",
      " 9.99870939e-001 9.99879070e-001 9.99886796e-001 9.99894114e-001\n",
      " 9.99901077e-001 9.99908693e-001 9.99916175e-001 9.99923240e-001\n",
      " 9.99929886e-001 9.99936111e-001 9.99942467e-001 9.99948864e-001\n",
      " 9.99954822e-001 9.99960338e-001 9.99965478e-001 9.99970556e-001\n",
      " 9.99975178e-001 9.99979343e-001 9.99983050e-001 9.99986416e-001\n",
      " 9.99989608e-001 9.99992351e-001 9.99994644e-001 9.99996487e-001\n",
      " 9.99997878e-001 9.99998819e-001 9.99999582e-001 1.00000000e+000\n",
      " 9.99999955e-001 9.99999446e-001 9.99998474e-001 9.99997432e-001\n",
      " 9.99996004e-001 9.99994124e-001 9.99991794e-001 9.99989013e-001\n",
      " 9.99985782e-001 9.99982102e-001 9.99977975e-001 9.99973400e-001\n",
      " 9.99968645e-001 9.99963912e-001 9.99958790e-001 9.99953223e-001\n",
      " 9.99947215e-001 9.99940765e-001 9.99933876e-001 9.99926550e-001\n",
      " 9.99918828e-001 9.99911522e-001 9.99904475e-001 9.99897023e-001\n",
      " 9.99889166e-001 9.99880909e-001 9.99872522e-001 9.99864083e-001\n",
      " 9.99855252e-001 9.99846276e-001 9.99838039e-001 9.99830543e-001\n",
      " 9.99823080e-001 9.99816146e-001 9.99808896e-001 9.99801195e-001\n",
      " 9.99793301e-001 9.99786289e-001 9.99778819e-001 9.99770986e-001\n",
      " 9.99762709e-001 9.99754642e-001 9.99746498e-001 9.99738323e-001\n",
      " 9.99729782e-001 9.99720776e-001 9.99711512e-001 9.99702929e-001\n",
      " 9.99694427e-001 9.99685795e-001 9.99676720e-001 9.99667287e-001\n",
      " 9.99657406e-001 9.99648516e-001 9.99639354e-001 9.99629741e-001\n",
      " 9.99619805e-001 9.99610567e-001 9.99600915e-001 9.99591393e-001\n",
      " 9.99582857e-001 9.99574235e-001 9.99565217e-001 9.99555807e-001\n",
      " 9.99546578e-001 9.99537081e-001 9.99527201e-001 9.99516957e-001\n",
      " 9.99508445e-001 9.99501136e-001 9.99493475e-001 9.99485429e-001\n",
      " 9.99477002e-001 9.99468194e-001 9.99459009e-001 9.99450109e-001\n",
      " 9.99440984e-001 9.99432398e-001 9.99423703e-001 9.99414639e-001\n",
      " 9.99405207e-001 9.99395409e-001 9.99385281e-001 9.99375840e-001\n",
      " 9.99366562e-001 9.99357485e-001 9.99348206e-001 9.99339363e-001\n",
      " 9.99330170e-001 9.99321202e-001 9.99312633e-001 9.99305217e-001\n",
      " 9.99298088e-001 9.99290617e-001 9.99283283e-001 9.99276179e-001\n",
      " 9.99268986e-001 9.99261940e-001 9.99255175e-001 9.99248306e-001\n",
      " 9.99241099e-001 9.99233554e-001 9.99225904e-001 9.99218903e-001\n",
      " 9.99211715e-001 9.99204211e-001 9.99196394e-001 9.99188265e-001\n",
      " 9.99179827e-001 9.99171081e-001 9.99162030e-001 9.99152676e-001\n",
      " 9.99144237e-001 9.99136441e-001 9.99129054e-001 9.99121490e-001\n",
      " 9.99113687e-001 9.99106241e-001 9.99098875e-001 9.99091589e-001\n",
      " 9.99084018e-001 9.99076201e-001 9.99069122e-001 9.99061784e-001\n",
      " 9.99054631e-001 9.99047397e-001 9.99039914e-001 9.99032184e-001\n",
      " 9.99024207e-001 9.99016298e-001 9.99009857e-001 9.99003733e-001\n",
      " 9.98997373e-001 9.98991647e-001 9.98985708e-001 9.98979488e-001\n",
      " 9.98973168e-001 9.98968016e-001 9.98962597e-001 9.98957011e-001\n",
      " 9.98951177e-001 9.98945391e-001 9.98939510e-001 9.98934448e-001\n",
      " 9.98929447e-001 9.98924175e-001 9.98918738e-001 9.98913473e-001\n",
      " 9.98908338e-001 9.98903621e-001 9.98898774e-001 9.98893928e-001\n",
      " 9.98888833e-001 9.98884831e-001 9.98880852e-001 9.98877190e-001\n",
      " 9.98873527e-001 9.98870615e-001 9.98868023e-001 9.98866438e-001\n",
      " 9.98866048e-001 9.98866453e-001 9.98866864e-001 9.98867133e-001\n",
      " 9.98867262e-001 9.98867249e-001 9.98867095e-001 9.98866799e-001\n",
      " 9.98866862e-001 9.98866792e-001 9.98866571e-001 9.98866198e-001\n",
      " 9.98865674e-001 9.98864999e-001 9.98864172e-001 9.98863194e-001\n",
      " 9.98862121e-001 9.98861367e-001 9.98860810e-001 9.98860136e-001\n",
      " 9.98859302e-001 9.98858310e-001 9.98857159e-001 9.98855850e-001\n",
      " 9.98854382e-001 9.98852756e-001 9.98851039e-001 9.98849547e-001\n",
      " 9.98847887e-001 9.98846060e-001 9.98844066e-001 9.98842121e-001\n",
      " 9.98840579e-001 9.98838889e-001 9.98837250e-001 9.98835706e-001\n",
      " 9.98834023e-001 9.98832327e-001 9.98830909e-001 9.98829471e-001\n",
      " 9.98828139e-001 9.98827153e-001 9.98826356e-001 9.98826550e-001\n",
      " 9.98826793e-001 9.98826905e-001 9.98827138e-001 9.98827391e-001\n",
      " 9.98827732e-001 9.98828359e-001 9.98828844e-001 9.98829169e-001\n",
      " 9.98829598e-001 9.98830335e-001 9.98830965e-001 9.98831432e-001\n",
      " 9.98831738e-001 9.98831881e-001 9.98831861e-001 9.98831679e-001\n",
      " 9.98831335e-001 9.98830848e-001 9.98830709e-001 9.98830418e-001\n",
      " 9.98829975e-001 9.98829477e-001 9.98828870e-001 9.98828122e-001\n",
      " 9.98827235e-001 9.98826545e-001 9.98827301e-001 9.98828711e-001\n",
      " 9.98829956e-001 9.98831979e-001 9.98833932e-001 9.98835679e-001\n",
      " 9.98837475e-001 9.98840391e-001 9.98843087e-001 9.98845654e-001\n",
      " 9.98848009e-001 9.98850917e-001 9.98854478e-001 9.98858463e-001\n",
      " 9.98862297e-001 9.98866247e-001 9.98870400e-001 9.98875175e-001\n",
      " 9.98880238e-001 9.98885653e-001 9.98891405e-001 9.98897083e-001\n",
      " 9.98902510e-001 9.98909371e-001 9.98916153e-001 9.98922674e-001\n",
      " 9.98929001e-001 9.98935615e-001 9.98941993e-001 9.98948674e-001\n",
      " 9.98956764e-001 9.98965009e-001 9.98973029e-001 9.98980822e-001\n",
      " 9.98988386e-001 9.98995719e-001 9.99002820e-001 9.99009687e-001\n",
      " 9.99017317e-001 9.99024725e-001 9.99031874e-001 9.99038760e-001\n",
      " 9.99045381e-001 9.99051923e-001 9.99058382e-001 9.99064581e-001\n",
      " 9.99070628e-001 9.99077316e-001 9.99084081e-001 9.99091175e-001\n",
      " 9.99098182e-001 9.99104957e-001 9.99111623e-001 9.99118020e-001\n",
      " 9.99124144e-001 9.99130796e-001 9.99137644e-001 9.99145450e-001\n",
      " 9.99152960e-001 9.99160583e-001 9.99168206e-001 9.99175932e-001\n",
      " 9.99184038e-001 9.99191845e-001 9.99199352e-001 9.99206557e-001\n",
      " 9.99213458e-001 9.99220054e-001 9.99226890e-001 9.99233633e-001\n",
      " 9.99240041e-001 9.99246498e-001 9.99252677e-001 9.99259313e-001\n",
      " 9.99265769e-001 9.99271912e-001 9.99278010e-001 9.99284041e-001\n",
      " 9.99290281e-001 9.99296702e-001 9.99303028e-001 9.99309018e-001\n",
      " 9.99315427e-001 9.99324216e-001 9.99332864e-001 9.99341170e-001\n",
      " 9.99349131e-001 9.99356745e-001 9.99364136e-001 9.99372015e-001\n",
      " 9.99380501e-001 9.99389176e-001 9.99398498e-001 9.99407464e-001\n",
      " 9.99416072e-001 9.99424320e-001 9.99432233e-001 9.99439864e-001\n",
      " 9.99447439e-001 9.99455317e-001 9.99464198e-001 9.99473224e-001\n",
      " 9.99481853e-001 9.99490605e-001 9.99499130e-001 9.99508687e-001\n",
      " 9.99518413e-001 9.99529134e-001 9.99539412e-001 9.99549740e-001\n",
      " 9.99559913e-001 9.99569958e-001 9.99579727e-001 9.99589912e-001]\n"
     ]
    }
   ],
   "source": [
    "# load one curve\n",
    "my_curve_values = np.frombuffer(df_curves[\"Bessell_U\"][3000])\n",
    "my_curve_values1 = get_curve(df_curves[\"Bessell_U\"][3000])\n",
    "print(my_curve_values)"
   ]
  },
  {
   "cell_type": "code",
   "execution_count": 18,
   "metadata": {},
   "outputs": [
    {
     "data": {
      "image/png": "[encoded data removed]",
      "text/plain": [
       "<Figure size 432x288 with 1 Axes>"
      ]
     },
     "metadata": {
      "needs_background": "light"
     },
     "output_type": "display_data"
    }
   ],
   "source": [
    "# curve plot\n",
    "plt.plot(my_curve_values[16:])\n",
    "plt.show()"
   ]
  },
  {
   "cell_type": "code",
   "execution_count": 19,
   "metadata": {},
   "outputs": [
    {
     "name": "stdout",
     "output_type": "stream",
     "text": [
      "Bessell_U    [0.9996059316603745, 0.9995721327694725, 0.999...\n",
      "Bessell_B    [0.9996895328329308, 0.9996601360435653, 0.999...\n",
      "Bessell_V    [0.9997033838940701, 0.9996741268022177, 0.999...\n",
      "Bessell_R    [0.9997088177509811, 0.9996793803738007, 0.999...\n",
      "Bessell_I    [0.9997269687921438, 0.9996979380337405, 0.999...\n",
      "SLOAN_u      [0.9995924534566876, 0.9995579742924349, 0.999...\n",
      "SLOAN_g      [0.9996946382258753, 0.9996653261390454, 0.999...\n",
      "SLOAN_r      [0.9997077562543703, 0.9996783513686496, 0.999...\n",
      "SLOAN_i      [0.9997181874008763, 0.9996888160856434, 0.999...\n",
      "SLOAN_z      [0.999737138760613, 0.999708449743672, 0.99972...\n",
      "Kepler       [0.9997041846846204, 0.9996748769755877, 0.999...\n",
      "GaiaDR2      [0.999694366074094, 0.999664577981271, 0.99967...\n",
      "TESS         [0.999732720078268, 0.9997048511304316, 0.9997...\n",
      "Name: 2500, dtype: object\n"
     ]
    }
   ],
   "source": [
    "row = df_curves.iloc[2500]\n",
    "row_curves = row[1:]\n",
    "my_curves = row_curves.apply(get_curve) \n",
    "print(my_curves)"
   ]
  },
  {
   "cell_type": "code",
   "execution_count": 20,
   "metadata": {},
   "outputs": [
    {
     "data": {
      "image/png": "[encoded data removed]",
      "text/plain": [
       "<Figure size 432x288 with 1 Axes>"
      ]
     },
     "metadata": {
      "needs_background": "light"
     },
     "output_type": "display_data"
    }
   ],
   "source": [
    "# plot one curve of all 13 filters\n",
    "for c in my_curves:\n",
    "    plt.plot(c)\n",
    "    \n",
    "plt.show()"
   ]
  },
  {
   "cell_type": "code",
   "execution_count": 21,
   "metadata": {},
   "outputs": [
    {
     "name": "stdout",
     "output_type": "stream",
     "text": [
      "<class 'pandas.core.frame.DataFrame'>\n",
      "Int64Index: 6853 entries, 0 to 6852\n",
      "Data columns (total 7 columns):\n",
      " #   Column       Non-Null Count  Dtype \n",
      "---  ------       --------------  ----- \n",
      " 0   id           6853 non-null   int64 \n",
      " 1   Bessell_U    6853 non-null   object\n",
      " 2   Bessell_B    6853 non-null   object\n",
      " 3   Bessell_V    6853 non-null   object\n",
      " 4   Bessell_R    6853 non-null   object\n",
      " 5   Bessell_I    6853 non-null   object\n",
      " 6   overcontact  6853 non-null   int64 \n",
      "dtypes: int64(2), object(5)\n",
      "memory usage: 428.3+ KB\n"
     ]
    }
   ],
   "source": [
    "# The  parameter 'overcontact' is assigned to each curve in the table 'Curves' so that only one table is created\n",
    "df1 = df_curves[[\"id\",\"Bessell_U\", \"Bessell_B\", \"Bessell_V\", \"Bessell_R\", \"Bessell_I\"]]\n",
    "df2 = df_parameters[[\"id\", \"overcontact\"]]\n",
    "df_merged = pd.merge(df1,df2,on=\"id\")\n",
    "df_merged[\"Bessell_U\"] = df_merged[\"Bessell_U\"].apply(get_curve)\n",
    "df_merged[\"Bessell_B\"] = df_merged[\"Bessell_B\"].apply(get_curve)\n",
    "df_merged[\"Bessell_V\"] = df_merged[\"Bessell_V\"].apply(get_curve)\n",
    "df_merged[\"Bessell_R\"] = df_merged[\"Bessell_R\"].apply(get_curve)\n",
    "df_merged[\"Bessell_I\"] = df_merged[\"Bessell_I\"].apply(get_curve)\n",
    "\n",
    "df_merged.info()"
   ]
  },
  {
   "cell_type": "code",
   "execution_count": 22,
   "metadata": {},
   "outputs": [],
   "source": [
    "# saving the table in .pkl format\n",
    "df_merged.to_pickle(\"single_spotty.pkl\")"
   ]
  }
 ],
 "metadata": {
  "kernelspec": {
   "display_name": "Python 3",
   "language": "python",
   "name": "python3"
  },
  "language_info": {
   "codemirror_mode": {
    "name": "ipython",
    "version": 3
   },
   "file_extension": ".py",
   "mimetype": "text/x-python",
   "name": "python",
   "nbconvert_exporter": "python",
   "pygments_lexer": "ipython3",
   "version": "3.8.6"
  }
 },
 "nbformat": 4,
 "nbformat_minor": 4
}
