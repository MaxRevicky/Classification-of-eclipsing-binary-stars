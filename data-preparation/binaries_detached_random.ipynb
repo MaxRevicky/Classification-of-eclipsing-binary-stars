{
 "cells": [
  {
   "cell_type": "code",
   "execution_count": 1,
   "metadata": {},
   "outputs": [],
   "source": [
    "import numpy as np\n",
    "import pandas as pd\n",
    "import sqlite3\n",
    "import matplotlib.pyplot as plt"
   ]
  },
  {
   "cell_type": "code",
   "execution_count": 3,
   "metadata": {},
   "outputs": [],
   "source": [
    "import io\n",
    "# returns curve as numpy array, instead of string b'\\x93NUMPY\\x01\\x00v.....\n",
    "def get_curve(txt):\n",
    "    out = io.BytesIO(txt)\n",
    "    out.seek(0)\n",
    "    return np.load(out)"
   ]
  },
  {
   "cell_type": "code",
   "execution_count": 4,
   "metadata": {},
   "outputs": [],
   "source": [
    "FILEPATH = '/home/jovyan/data/lightning/data-upjs/detached.db'\n",
    "# creating a connection to a .db file in sqllite format\n",
    "conn = sqlite3.connect(FILEPATH)"
   ]
  },
  {
   "cell_type": "code",
   "execution_count": 5,
   "metadata": {},
   "outputs": [
    {
     "name": "stdout",
     "output_type": "stream",
     "text": [
      "[('parameters',), ('curves',), ('auxiliary',)]\n"
     ]
    }
   ],
   "source": [
    "# retrieve table names from the database\n",
    "sql_query = \"\"\"SELECT name FROM sqlite_master WHERE type='table';\"\"\"\n",
    "cursor = conn.cursor()\n",
    "cursor.execute(sql_query)\n",
    "print(cursor.fetchall())"
   ]
  },
  {
   "cell_type": "code",
   "execution_count": 6,
   "metadata": {},
   "outputs": [],
   "source": [
    "# load the table 'parameters'\n",
    "df_parameters = pd.read_sql_query(\"SELECT id, overcontact FROM parameters\", conn)"
   ]
  },
  {
   "cell_type": "code",
   "execution_count": 7,
   "metadata": {},
   "outputs": [
    {
     "data": {
      "text/html": [
       "<div>\n",
       "<style scoped>\n",
       "    .dataframe tbody tr th:only-of-type {\n",
       "        vertical-align: middle;\n",
       "    }\n",
       "\n",
       "    .dataframe tbody tr th {\n",
       "        vertical-align: top;\n",
       "    }\n",
       "\n",
       "    .dataframe thead th {\n",
       "        text-align: right;\n",
       "    }\n",
       "</style>\n",
       "<table border=\"1\" class=\"dataframe\">\n",
       "  <thead>\n",
       "    <tr style=\"text-align: right;\">\n",
       "      <th></th>\n",
       "      <th>id</th>\n",
       "      <th>overcontact</th>\n",
       "    </tr>\n",
       "  </thead>\n",
       "  <tbody>\n",
       "    <tr>\n",
       "      <th>0</th>\n",
       "      <td>0</td>\n",
       "      <td>0</td>\n",
       "    </tr>\n",
       "    <tr>\n",
       "      <th>1</th>\n",
       "      <td>1</td>\n",
       "      <td>0</td>\n",
       "    </tr>\n",
       "    <tr>\n",
       "      <th>2</th>\n",
       "      <td>2</td>\n",
       "      <td>0</td>\n",
       "    </tr>\n",
       "    <tr>\n",
       "      <th>3</th>\n",
       "      <td>3</td>\n",
       "      <td>0</td>\n",
       "    </tr>\n",
       "    <tr>\n",
       "      <th>4</th>\n",
       "      <td>4</td>\n",
       "      <td>0</td>\n",
       "    </tr>\n",
       "    <tr>\n",
       "      <th>...</th>\n",
       "      <td>...</td>\n",
       "      <td>...</td>\n",
       "    </tr>\n",
       "    <tr>\n",
       "      <th>65</th>\n",
       "      <td>65</td>\n",
       "      <td>0</td>\n",
       "    </tr>\n",
       "    <tr>\n",
       "      <th>66</th>\n",
       "      <td>66</td>\n",
       "      <td>0</td>\n",
       "    </tr>\n",
       "    <tr>\n",
       "      <th>67</th>\n",
       "      <td>67</td>\n",
       "      <td>0</td>\n",
       "    </tr>\n",
       "    <tr>\n",
       "      <th>68</th>\n",
       "      <td>68</td>\n",
       "      <td>0</td>\n",
       "    </tr>\n",
       "    <tr>\n",
       "      <th>69</th>\n",
       "      <td>69</td>\n",
       "      <td>0</td>\n",
       "    </tr>\n",
       "  </tbody>\n",
       "</table>\n",
       "<p>70 rows × 2 columns</p>\n",
       "</div>"
      ],
      "text/plain": [
       "    id  overcontact\n",
       "0    0            0\n",
       "1    1            0\n",
       "2    2            0\n",
       "3    3            0\n",
       "4    4            0\n",
       "..  ..          ...\n",
       "65  65            0\n",
       "66  66            0\n",
       "67  67            0\n",
       "68  68            0\n",
       "69  69            0\n",
       "\n",
       "[70 rows x 2 columns]"
      ]
     },
     "execution_count": 7,
     "metadata": {},
     "output_type": "execute_result"
    }
   ],
   "source": [
    "df_parameters.head(70)"
   ]
  },
  {
   "cell_type": "code",
   "execution_count": 8,
   "metadata": {},
   "outputs": [],
   "source": [
    "# load the table 'curves'\n",
    "df_curves = pd.read_sql_query(\"SELECT * FROM curves ORDER BY RANDOM() LIMIT 50000\", conn)\n",
    "conn.close()"
   ]
  },
  {
   "cell_type": "code",
   "execution_count": 11,
   "metadata": {},
   "outputs": [
    {
     "data": {
      "text/html": [
       "<div>\n",
       "<style scoped>\n",
       "    .dataframe tbody tr th:only-of-type {\n",
       "        vertical-align: middle;\n",
       "    }\n",
       "\n",
       "    .dataframe tbody tr th {\n",
       "        vertical-align: top;\n",
       "    }\n",
       "\n",
       "    .dataframe thead th {\n",
       "        text-align: right;\n",
       "    }\n",
       "</style>\n",
       "<table border=\"1\" class=\"dataframe\">\n",
       "  <thead>\n",
       "    <tr style=\"text-align: right;\">\n",
       "      <th></th>\n",
       "      <th>id</th>\n",
       "      <th>Bessell_U</th>\n",
       "      <th>Bessell_B</th>\n",
       "      <th>Bessell_V</th>\n",
       "      <th>Bessell_R</th>\n",
       "      <th>Bessell_I</th>\n",
       "      <th>SLOAN_u</th>\n",
       "      <th>SLOAN_g</th>\n",
       "      <th>SLOAN_r</th>\n",
       "      <th>SLOAN_i</th>\n",
       "      <th>SLOAN_z</th>\n",
       "      <th>Kepler</th>\n",
       "      <th>GaiaDR2</th>\n",
       "      <th>TESS</th>\n",
       "    </tr>\n",
       "  </thead>\n",
       "  <tbody>\n",
       "    <tr>\n",
       "      <th>0</th>\n",
       "      <td>6122085</td>\n",
       "      <td>b'\\x93NUMPY\\x01\\x00v\\x00{\\'descr\\': \\'&lt;f8\\', \\...</td>\n",
       "      <td>b'\\x93NUMPY\\x01\\x00v\\x00{\\'descr\\': \\'&lt;f8\\', \\...</td>\n",
       "      <td>b'\\x93NUMPY\\x01\\x00v\\x00{\\'descr\\': \\'&lt;f8\\', \\...</td>\n",
       "      <td>b'\\x93NUMPY\\x01\\x00v\\x00{\\'descr\\': \\'&lt;f8\\', \\...</td>\n",
       "      <td>b'\\x93NUMPY\\x01\\x00v\\x00{\\'descr\\': \\'&lt;f8\\', \\...</td>\n",
       "      <td>b'\\x93NUMPY\\x01\\x00v\\x00{\\'descr\\': \\'&lt;f8\\', \\...</td>\n",
       "      <td>b'\\x93NUMPY\\x01\\x00v\\x00{\\'descr\\': \\'&lt;f8\\', \\...</td>\n",
       "      <td>b'\\x93NUMPY\\x01\\x00v\\x00{\\'descr\\': \\'&lt;f8\\', \\...</td>\n",
       "      <td>b'\\x93NUMPY\\x01\\x00v\\x00{\\'descr\\': \\'&lt;f8\\', \\...</td>\n",
       "      <td>b'\\x93NUMPY\\x01\\x00v\\x00{\\'descr\\': \\'&lt;f8\\', \\...</td>\n",
       "      <td>b'\\x93NUMPY\\x01\\x00v\\x00{\\'descr\\': \\'&lt;f8\\', \\...</td>\n",
       "      <td>b'\\x93NUMPY\\x01\\x00v\\x00{\\'descr\\': \\'&lt;f8\\', \\...</td>\n",
       "      <td>b'\\x93NUMPY\\x01\\x00v\\x00{\\'descr\\': \\'&lt;f8\\', \\...</td>\n",
       "    </tr>\n",
       "    <tr>\n",
       "      <th>1</th>\n",
       "      <td>10185314</td>\n",
       "      <td>b'\\x93NUMPY\\x01\\x00v\\x00{\\'descr\\': \\'&lt;f8\\', \\...</td>\n",
       "      <td>b'\\x93NUMPY\\x01\\x00v\\x00{\\'descr\\': \\'&lt;f8\\', \\...</td>\n",
       "      <td>b'\\x93NUMPY\\x01\\x00v\\x00{\\'descr\\': \\'&lt;f8\\', \\...</td>\n",
       "      <td>b'\\x93NUMPY\\x01\\x00v\\x00{\\'descr\\': \\'&lt;f8\\', \\...</td>\n",
       "      <td>b'\\x93NUMPY\\x01\\x00v\\x00{\\'descr\\': \\'&lt;f8\\', \\...</td>\n",
       "      <td>b'\\x93NUMPY\\x01\\x00v\\x00{\\'descr\\': \\'&lt;f8\\', \\...</td>\n",
       "      <td>b'\\x93NUMPY\\x01\\x00v\\x00{\\'descr\\': \\'&lt;f8\\', \\...</td>\n",
       "      <td>b'\\x93NUMPY\\x01\\x00v\\x00{\\'descr\\': \\'&lt;f8\\', \\...</td>\n",
       "      <td>b'\\x93NUMPY\\x01\\x00v\\x00{\\'descr\\': \\'&lt;f8\\', \\...</td>\n",
       "      <td>b'\\x93NUMPY\\x01\\x00v\\x00{\\'descr\\': \\'&lt;f8\\', \\...</td>\n",
       "      <td>b'\\x93NUMPY\\x01\\x00v\\x00{\\'descr\\': \\'&lt;f8\\', \\...</td>\n",
       "      <td>b'\\x93NUMPY\\x01\\x00v\\x00{\\'descr\\': \\'&lt;f8\\', \\...</td>\n",
       "      <td>b'\\x93NUMPY\\x01\\x00v\\x00{\\'descr\\': \\'&lt;f8\\', \\...</td>\n",
       "    </tr>\n",
       "  </tbody>\n",
       "</table>\n",
       "</div>"
      ],
      "text/plain": [
       "         id                                          Bessell_U  \\\n",
       "0   6122085  b'\\x93NUMPY\\x01\\x00v\\x00{\\'descr\\': \\'<f8\\', \\...   \n",
       "1  10185314  b'\\x93NUMPY\\x01\\x00v\\x00{\\'descr\\': \\'<f8\\', \\...   \n",
       "\n",
       "                                           Bessell_B  \\\n",
       "0  b'\\x93NUMPY\\x01\\x00v\\x00{\\'descr\\': \\'<f8\\', \\...   \n",
       "1  b'\\x93NUMPY\\x01\\x00v\\x00{\\'descr\\': \\'<f8\\', \\...   \n",
       "\n",
       "                                           Bessell_V  \\\n",
       "0  b'\\x93NUMPY\\x01\\x00v\\x00{\\'descr\\': \\'<f8\\', \\...   \n",
       "1  b'\\x93NUMPY\\x01\\x00v\\x00{\\'descr\\': \\'<f8\\', \\...   \n",
       "\n",
       "                                           Bessell_R  \\\n",
       "0  b'\\x93NUMPY\\x01\\x00v\\x00{\\'descr\\': \\'<f8\\', \\...   \n",
       "1  b'\\x93NUMPY\\x01\\x00v\\x00{\\'descr\\': \\'<f8\\', \\...   \n",
       "\n",
       "                                           Bessell_I  \\\n",
       "0  b'\\x93NUMPY\\x01\\x00v\\x00{\\'descr\\': \\'<f8\\', \\...   \n",
       "1  b'\\x93NUMPY\\x01\\x00v\\x00{\\'descr\\': \\'<f8\\', \\...   \n",
       "\n",
       "                                             SLOAN_u  \\\n",
       "0  b'\\x93NUMPY\\x01\\x00v\\x00{\\'descr\\': \\'<f8\\', \\...   \n",
       "1  b'\\x93NUMPY\\x01\\x00v\\x00{\\'descr\\': \\'<f8\\', \\...   \n",
       "\n",
       "                                             SLOAN_g  \\\n",
       "0  b'\\x93NUMPY\\x01\\x00v\\x00{\\'descr\\': \\'<f8\\', \\...   \n",
       "1  b'\\x93NUMPY\\x01\\x00v\\x00{\\'descr\\': \\'<f8\\', \\...   \n",
       "\n",
       "                                             SLOAN_r  \\\n",
       "0  b'\\x93NUMPY\\x01\\x00v\\x00{\\'descr\\': \\'<f8\\', \\...   \n",
       "1  b'\\x93NUMPY\\x01\\x00v\\x00{\\'descr\\': \\'<f8\\', \\...   \n",
       "\n",
       "                                             SLOAN_i  \\\n",
       "0  b'\\x93NUMPY\\x01\\x00v\\x00{\\'descr\\': \\'<f8\\', \\...   \n",
       "1  b'\\x93NUMPY\\x01\\x00v\\x00{\\'descr\\': \\'<f8\\', \\...   \n",
       "\n",
       "                                             SLOAN_z  \\\n",
       "0  b'\\x93NUMPY\\x01\\x00v\\x00{\\'descr\\': \\'<f8\\', \\...   \n",
       "1  b'\\x93NUMPY\\x01\\x00v\\x00{\\'descr\\': \\'<f8\\', \\...   \n",
       "\n",
       "                                              Kepler  \\\n",
       "0  b'\\x93NUMPY\\x01\\x00v\\x00{\\'descr\\': \\'<f8\\', \\...   \n",
       "1  b'\\x93NUMPY\\x01\\x00v\\x00{\\'descr\\': \\'<f8\\', \\...   \n",
       "\n",
       "                                             GaiaDR2  \\\n",
       "0  b'\\x93NUMPY\\x01\\x00v\\x00{\\'descr\\': \\'<f8\\', \\...   \n",
       "1  b'\\x93NUMPY\\x01\\x00v\\x00{\\'descr\\': \\'<f8\\', \\...   \n",
       "\n",
       "                                                TESS  \n",
       "0  b'\\x93NUMPY\\x01\\x00v\\x00{\\'descr\\': \\'<f8\\', \\...  \n",
       "1  b'\\x93NUMPY\\x01\\x00v\\x00{\\'descr\\': \\'<f8\\', \\...  "
      ]
     },
     "execution_count": 11,
     "metadata": {},
     "output_type": "execute_result"
    }
   ],
   "source": [
    "df_curves.head(2)"
   ]
  },
  {
   "cell_type": "code",
   "execution_count": 10,
   "metadata": {},
   "outputs": [
    {
     "name": "stdout",
     "output_type": "stream",
     "text": [
      "[1.87585069e-309 1.17119999e+171 5.22741680e-037 8.44740097e+252\n",
      " 2.65141232e+180 9.92152605e+247 2.16209968e+233 1.39938206e-076\n",
      " 6.01399921e-154 6.01347002e-154 6.01347002e-154 6.01347002e-154\n",
      " 6.01347002e-154 6.01347002e-154 6.01347002e-154 6.55490914e-260\n",
      " 9.61990842e-001 9.61903770e-001 9.61979090e-001 9.62063090e-001\n",
      " 9.62280353e-001 9.62227183e-001 9.62287657e-001 9.62349130e-001\n",
      " 9.62584039e-001 9.62885189e-001 9.63302142e-001 9.63452576e-001\n",
      " 9.63929705e-001 9.65232421e-001 9.65883323e-001 9.66169562e-001\n",
      " 9.66455664e-001 9.66726230e-001 9.66939263e-001 9.67222329e-001\n",
      " 9.67554835e-001 9.67880624e-001 9.68212921e-001 9.68516758e-001\n",
      " 9.68828539e-001 9.69227355e-001 9.69655924e-001 9.70066094e-001\n",
      " 9.70458980e-001 9.70819279e-001 9.71228403e-001 9.71711176e-001\n",
      " 9.72181885e-001 9.72641636e-001 9.73091773e-001 9.73554317e-001\n",
      " 9.74094510e-001 9.74645331e-001 9.75150109e-001 9.75625492e-001\n",
      " 9.76124023e-001 9.76643412e-001 9.77208486e-001 9.77784797e-001\n",
      " 9.78333828e-001 9.78843701e-001 9.79389324e-001 9.79980048e-001\n",
      " 9.80561835e-001 9.81101327e-001 9.81666780e-001 9.82216261e-001\n",
      " 9.82776575e-001 9.83383058e-001 9.83996089e-001 9.84546001e-001\n",
      " 9.85059089e-001 9.85610958e-001 9.86183850e-001 9.86742242e-001\n",
      " 9.87311733e-001 9.87847225e-001 9.88346884e-001 9.88872322e-001\n",
      " 9.89448921e-001 9.89990609e-001 9.90498274e-001 9.90977591e-001\n",
      " 9.91428292e-001 9.91925477e-001 9.92449619e-001 9.92927237e-001\n",
      " 9.93354062e-001 9.93765551e-001 9.94165304e-001 9.94609395e-001\n",
      " 9.95063386e-001 9.95451958e-001 9.95789143e-001 9.96117934e-001\n",
      " 9.96441422e-001 9.96838382e-001 9.97210011e-001 9.97507478e-001\n",
      " 9.97731939e-001 9.97954470e-001 9.98181848e-001 9.98498147e-001\n",
      " 9.98784690e-001 9.98976167e-001 9.99103416e-001 9.99197002e-001\n",
      " 9.99288379e-001 9.99473910e-001 9.99724101e-001 9.99877482e-001\n",
      " 9.99947743e-001 9.99949947e-001 9.99954707e-001 9.99939809e-001\n",
      " 9.99945249e-001 9.99952370e-001 9.99979986e-001 9.99988340e-001\n",
      " 1.00000000e+000 9.99944243e-001 9.99805997e-001 9.99571590e-001\n",
      " 9.99403285e-001 9.99331125e-001 9.99258540e-001 9.99154037e-001\n",
      " 9.98986654e-001 9.98725445e-001 9.98436418e-001 9.98239946e-001\n",
      " 9.98051099e-001 9.97863024e-001 9.97603834e-001 9.97272216e-001\n",
      " 9.96918005e-001 9.96641778e-001 9.96363484e-001 9.96080107e-001\n",
      " 9.95747658e-001 9.95351863e-001 9.94969614e-001 9.94636435e-001\n",
      " 9.94294848e-001 9.93941169e-001 9.93539277e-001 9.93093171e-001\n",
      " 9.92678125e-001 9.92314347e-001 9.91924741e-001 9.91509707e-001\n",
      " 9.91063231e-001 9.90584188e-001 9.90160524e-001 9.89766418e-001\n",
      " 9.89338704e-001 9.88879045e-001 9.88432948e-001 9.87974778e-001\n",
      " 9.87540965e-001 9.87148577e-001 9.86720976e-001 9.86231315e-001\n",
      " 9.85750011e-001 9.85317191e-001 9.84897372e-001 9.84462243e-001\n",
      " 9.84053950e-001 9.83603634e-001 9.83145517e-001 9.82733614e-001\n",
      " 9.82358088e-001 9.81942990e-001 9.81500180e-001 9.81068119e-001\n",
      " 9.80681759e-001 9.80315907e-001 9.79972106e-001 9.79597570e-001\n",
      " 9.79175613e-001 9.78763081e-001 9.78426789e-001 9.78100832e-001\n",
      " 9.77763151e-001 9.77412251e-001 9.77046849e-001 9.76752553e-001\n",
      " 9.76504443e-001 9.76220929e-001 9.75917319e-001 9.75592240e-001\n",
      " 9.75293548e-001 9.75078195e-001 9.74867542e-001 9.74625189e-001\n",
      " 9.74385863e-001 9.74136328e-001 9.73932206e-001 9.73793925e-001\n",
      " 9.73595055e-001 9.73376985e-001 9.73154990e-001 9.72438092e-001\n",
      " 9.70978000e-001 9.70935971e-001 9.70810307e-001 9.70661933e-001\n",
      " 9.70486311e-001 9.70343311e-001 9.70329916e-001 9.70355064e-001\n",
      " 9.70321142e-001 9.70275620e-001 9.70212093e-001 9.70158899e-001\n",
      " 9.70123973e-001 9.70158899e-001 9.70212093e-001 9.70275620e-001\n",
      " 9.70321142e-001 9.70355064e-001 9.70329916e-001 9.70343311e-001\n",
      " 9.70486311e-001 9.70661933e-001 9.70810307e-001 9.70935971e-001\n",
      " 9.70978000e-001 9.72438092e-001 9.73154990e-001 9.73376985e-001\n",
      " 9.73595055e-001 9.73793925e-001 9.73932206e-001 9.74136328e-001\n",
      " 9.74385863e-001 9.74625189e-001 9.74867542e-001 9.75078195e-001\n",
      " 9.75293548e-001 9.75592240e-001 9.75917319e-001 9.76220929e-001\n",
      " 9.76504443e-001 9.76752553e-001 9.77046849e-001 9.77412251e-001\n",
      " 9.77763151e-001 9.78100832e-001 9.78426789e-001 9.78763081e-001\n",
      " 9.79175613e-001 9.79597570e-001 9.79972106e-001 9.80315907e-001\n",
      " 9.80681759e-001 9.81068119e-001 9.81500180e-001 9.81942990e-001\n",
      " 9.82358088e-001 9.82733614e-001 9.83145517e-001 9.83603634e-001\n",
      " 9.84053950e-001 9.84462243e-001 9.84897372e-001 9.85317191e-001\n",
      " 9.85750011e-001 9.86231315e-001 9.86720976e-001 9.87148577e-001\n",
      " 9.87540965e-001 9.87974778e-001 9.88432948e-001 9.88879045e-001\n",
      " 9.89338704e-001 9.89766418e-001 9.90160524e-001 9.90584188e-001\n",
      " 9.91063231e-001 9.91509707e-001 9.91924741e-001 9.92314347e-001\n",
      " 9.92678125e-001 9.93093171e-001 9.93539277e-001 9.93941169e-001\n",
      " 9.94294848e-001 9.94636435e-001 9.94969614e-001 9.95351863e-001\n",
      " 9.95747658e-001 9.96080107e-001 9.96363484e-001 9.96641778e-001\n",
      " 9.96918005e-001 9.97272216e-001 9.97603834e-001 9.97863024e-001\n",
      " 9.98051099e-001 9.98239946e-001 9.98436418e-001 9.98725445e-001\n",
      " 9.98986654e-001 9.99154037e-001 9.99258540e-001 9.99331125e-001\n",
      " 9.99403285e-001 9.99571590e-001 9.99805997e-001 9.99944243e-001\n",
      " 1.00000000e+000 9.99988340e-001 9.99979986e-001 9.99952370e-001\n",
      " 9.99945249e-001 9.99939809e-001 9.99954707e-001 9.99949947e-001\n",
      " 9.99947743e-001 9.99877482e-001 9.99724101e-001 9.99473910e-001\n",
      " 9.99288379e-001 9.99197002e-001 9.99103416e-001 9.98976167e-001\n",
      " 9.98784690e-001 9.98498147e-001 9.98181848e-001 9.97954470e-001\n",
      " 9.97731939e-001 9.97507478e-001 9.97210011e-001 9.96838382e-001\n",
      " 9.96441422e-001 9.96117934e-001 9.95789143e-001 9.95451958e-001\n",
      " 9.95063386e-001 9.94609395e-001 9.94165304e-001 9.93765551e-001\n",
      " 9.93354062e-001 9.92927237e-001 9.92449619e-001 9.91925477e-001\n",
      " 9.91428292e-001 9.90977591e-001 9.90498274e-001 9.89990609e-001\n",
      " 9.89448921e-001 9.88872322e-001 9.88346884e-001 9.87847225e-001\n",
      " 9.87311733e-001 9.86742242e-001 9.86183850e-001 9.85610958e-001\n",
      " 9.85059089e-001 9.84546001e-001 9.83996089e-001 9.83383058e-001\n",
      " 9.82776575e-001 9.82216261e-001 9.81666780e-001 9.81101327e-001\n",
      " 9.80561835e-001 9.79980048e-001 9.79389324e-001 9.78843701e-001\n",
      " 9.78333828e-001 9.77784797e-001 9.77208486e-001 9.76643412e-001\n",
      " 9.76124023e-001 9.75625492e-001 9.75150109e-001 9.74645331e-001\n",
      " 9.74094510e-001 9.73554317e-001 9.73091773e-001 9.72641636e-001\n",
      " 9.72181885e-001 9.71711176e-001 9.71228403e-001 9.70819279e-001\n",
      " 9.70458980e-001 9.70066094e-001 9.69655924e-001 9.69227355e-001\n",
      " 9.68828539e-001 9.68516758e-001 9.68212921e-001 9.67880624e-001\n",
      " 9.67554835e-001 9.67222329e-001 9.66939263e-001 9.66726230e-001\n",
      " 9.66455664e-001 9.66169562e-001 9.65883323e-001 9.65232421e-001\n",
      " 9.63929705e-001 9.63452576e-001 9.63302142e-001 9.62885189e-001\n",
      " 9.62584039e-001 9.62349130e-001 9.62287657e-001 9.62227183e-001\n",
      " 9.62280353e-001 9.62063090e-001 9.61979090e-001 9.61903770e-001]\n"
     ]
    }
   ],
   "source": [
    "# load one curve\n",
    "my_curve_values = np.frombuffer(df_curves[\"Bessell_U\"][3000])\n",
    "my_curve_values1 = get_curve(df_curves[\"Bessell_U\"][3000])\n",
    "print(my_curve_values)\n"
   ]
  },
  {
   "cell_type": "code",
   "execution_count": 12,
   "metadata": {},
   "outputs": [
    {
     "data": {
      "image/png": "[encoded data removed]",
      "text/plain": [
       "<Figure size 432x288 with 1 Axes>"
      ]
     },
     "metadata": {
      "needs_background": "light"
     },
     "output_type": "display_data"
    }
   ],
   "source": [
    "# curve plot\n",
    "plt.plot(my_curve_values[16:])\n",
    "plt.show()"
   ]
  },
  {
   "cell_type": "code",
   "execution_count": 13,
   "metadata": {},
   "outputs": [
    {
     "name": "stdout",
     "output_type": "stream",
     "text": [
      "Bessell_U    [0.39665344228475724, 0.39666900128109955, 0.3...\n",
      "Bessell_B    [0.5253859786354698, 0.5254053570698278, 0.525...\n",
      "Bessell_V    [0.6256067117981168, 0.6256322374966901, 0.625...\n",
      "Bessell_R    [0.6777377786798322, 0.6777679225267516, 0.677...\n",
      "Bessell_I    [0.7478968914573363, 0.7479329892488993, 0.748...\n",
      "SLOAN_u      [0.3709207094573126, 0.3709352368800116, 0.370...\n",
      "SLOAN_g      [0.5587348383338651, 0.5587561237026564, 0.558...\n",
      "SLOAN_r      [0.6684865720877363, 0.6685158352241017, 0.668...\n",
      "SLOAN_i      [0.7294743954414704, 0.7295088882073278, 0.729...\n",
      "SLOAN_z      [0.763752634575591, 0.7637908069337564, 0.7638...\n",
      "Kepler       [0.6392951908096933, 0.6393221481495657, 0.639...\n",
      "GaiaDR2      [0.6162770790391743, 0.6163033540737046, 0.616...\n",
      "TESS         [0.7140748621594067, 0.7141066716168025, 0.714...\n",
      "Name: 7800, dtype: object\n"
     ]
    }
   ],
   "source": [
    "row = df_curves.iloc[7800]\n",
    "row_curves = row[1:]\n",
    "my_curves = row_curves.apply(get_curve) \n",
    "print(my_curves)"
   ]
  },
  {
   "cell_type": "code",
   "execution_count": 14,
   "metadata": {},
   "outputs": [
    {
     "data": {
      "image/png": "[encoded data removed]",
      "text/plain": [
       "<Figure size 432x288 with 1 Axes>"
      ]
     },
     "metadata": {
      "needs_background": "light"
     },
     "output_type": "display_data"
    }
   ],
   "source": [
    "# plot one curve of all 13 filters\n",
    "for c in my_curves:\n",
    "    plt.plot(c)\n",
    "    \n",
    "plt.show()"
   ]
  },
  {
   "cell_type": "code",
   "execution_count": 15,
   "metadata": {},
   "outputs": [
    {
     "name": "stdout",
     "output_type": "stream",
     "text": [
      "<class 'pandas.core.frame.DataFrame'>\n",
      "Int64Index: 50000 entries, 0 to 49999\n",
      "Data columns (total 7 columns):\n",
      " #   Column       Non-Null Count  Dtype \n",
      "---  ------       --------------  ----- \n",
      " 0   id           50000 non-null  int64 \n",
      " 1   Bessell_U    50000 non-null  object\n",
      " 2   Bessell_B    50000 non-null  object\n",
      " 3   Bessell_V    50000 non-null  object\n",
      " 4   Bessell_R    50000 non-null  object\n",
      " 5   Bessell_I    50000 non-null  object\n",
      " 6   overcontact  50000 non-null  int64 \n",
      "dtypes: int64(2), object(5)\n",
      "memory usage: 3.1+ MB\n"
     ]
    }
   ],
   "source": [
    "# The  parameter 'overcontact' is assigned to each curve in the table 'Curves' so that only one table is created\n",
    "df1 = df_curves[[\"id\",\"Bessell_U\", \"Bessell_B\", \"Bessell_V\", \"Bessell_R\", \"Bessell_I\"]]\n",
    "df2 = df_parameters[[\"id\", \"overcontact\"]]\n",
    "df_merged = pd.merge(df1,df2,on=\"id\")\n",
    "df_merged[\"Bessell_U\"] = df_merged[\"Bessell_U\"].apply(get_curve)\n",
    "df_merged[\"Bessell_B\"] = df_merged[\"Bessell_B\"].apply(get_curve)\n",
    "df_merged[\"Bessell_V\"] = df_merged[\"Bessell_V\"].apply(get_curve)\n",
    "df_merged[\"Bessell_R\"] = df_merged[\"Bessell_R\"].apply(get_curve)\n",
    "df_merged[\"Bessell_I\"] = df_merged[\"Bessell_I\"].apply(get_curve)\n",
    "\n",
    "df_merged.info()"
   ]
  },
  {
   "cell_type": "code",
   "execution_count": 16,
   "metadata": {},
   "outputs": [],
   "source": [
    "# saving the table in .pkl format\n",
    "df_merged.to_pickle(\"overcontact_0_random_50000.pkl\")"
   ]
  }
 ],
 "metadata": {
  "kernelspec": {
   "display_name": "Python 3",
   "language": "python",
   "name": "python3"
  },
  "language_info": {
   "codemirror_mode": {
    "name": "ipython",
    "version": 3
   },
   "file_extension": ".py",
   "mimetype": "text/x-python",
   "name": "python",
   "nbconvert_exporter": "python",
   "pygments_lexer": "ipython3",
   "version": "3.8.6"
  }
 },
 "nbformat": 4,
 "nbformat_minor": 4
}
